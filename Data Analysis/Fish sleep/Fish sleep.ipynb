{
 "cells": [
  {
   "cell_type": "code",
   "execution_count": 1,
   "metadata": {},
   "outputs": [],
   "source": [
    "import numpy as np\n",
    "import pandas as pd\n",
    "import matplotlib.pyplot as plt\n",
    "import seaborn as sns\n",
    "sns.set()"
   ]
  },
  {
   "cell_type": "code",
   "execution_count": 9,
   "metadata": {},
   "outputs": [],
   "source": [
    "def ecdf(data):\n",
    "    '''Compute the x and y points to generate ecdf of data'''\n",
    "    x = np.sort(data)\n",
    "    y = np.arange(1, len(x)+1)/len(x)\n",
    "    return x, y\n",
    "\n",
    "def bs_replicated_1d(data,formula):\n",
    "    '''compute a bs replicate of a 1 dimension data'''\n",
    "    bs_sample = np.random.choice(data, size = len(data))\n",
    "    return formula(bs_sample)\n",
    "\n",
    "def draw_bs_reps(data, formula, size = 1):\n",
    "    '''compute many bs replicates of data'''\n",
    "    bs_replicate = np.empty(size)\n",
    "    for i in range(size):\n",
    "        bs_replicate[i] = bs_replicated_1d(data, formula)\n",
    "        \n",
    "    return bs_replicate\n",
    "\n",
    "def perm_sample(data1, data2):\n",
    "    data = np.concatenate((data1, data2))\n",
    "    perm_sample = np.random.permutation(data)\n",
    "    perm_sample1 = perm_sample[:len(data1)]\n",
    "    perm_sample2 = perm_sample[len(data1):]\n",
    "    return perm_sample1, perm_sample2\n",
    "\n",
    "def draw_perm_replicate(data1, data2, func, size = 1):\n",
    "    perm_repl = np.empty(size)\n",
    "    for i in range(size):\n",
    "        perm1, perm2 = perm_sample(data1, data2)\n",
    "        perm_repl[i] = func(perm1, perm2)\n",
    "        \n",
    "    return perm_repl\n",
    "\n",
    "def diff_of_mean(data1, data2):\n",
    "    return np.mean(data1) - np.mean(data2)"
   ]
  },
  {
   "cell_type": "code",
   "execution_count": 3,
   "metadata": {},
   "outputs": [],
   "source": [
    "fish_data = pd.read_csv('zebrafish_activity_bouts.csv', skiprows = 4)"
   ]
  },
  {
   "cell_type": "code",
   "execution_count": 4,
   "metadata": {},
   "outputs": [
    {
     "data": {
      "text/html": [
       "<div>\n",
       "<style scoped>\n",
       "    .dataframe tbody tr th:only-of-type {\n",
       "        vertical-align: middle;\n",
       "    }\n",
       "\n",
       "    .dataframe tbody tr th {\n",
       "        vertical-align: top;\n",
       "    }\n",
       "\n",
       "    .dataframe thead th {\n",
       "        text-align: right;\n",
       "    }\n",
       "</style>\n",
       "<table border=\"1\" class=\"dataframe\">\n",
       "  <thead>\n",
       "    <tr style=\"text-align: right;\">\n",
       "      <th></th>\n",
       "      <th>genotype</th>\n",
       "      <th>bout_length</th>\n",
       "      <th>fish</th>\n",
       "    </tr>\n",
       "  </thead>\n",
       "  <tbody>\n",
       "    <tr>\n",
       "      <th>0</th>\n",
       "      <td>het</td>\n",
       "      <td>12.00</td>\n",
       "      <td>1</td>\n",
       "    </tr>\n",
       "    <tr>\n",
       "      <th>1</th>\n",
       "      <td>het</td>\n",
       "      <td>33.00</td>\n",
       "      <td>1</td>\n",
       "    </tr>\n",
       "    <tr>\n",
       "      <th>2</th>\n",
       "      <td>het</td>\n",
       "      <td>0.96</td>\n",
       "      <td>1</td>\n",
       "    </tr>\n",
       "    <tr>\n",
       "      <th>3</th>\n",
       "      <td>het</td>\n",
       "      <td>4.98</td>\n",
       "      <td>1</td>\n",
       "    </tr>\n",
       "    <tr>\n",
       "      <th>4</th>\n",
       "      <td>het</td>\n",
       "      <td>1.98</td>\n",
       "      <td>1</td>\n",
       "    </tr>\n",
       "  </tbody>\n",
       "</table>\n",
       "</div>"
      ],
      "text/plain": [
       "  genotype  bout_length  fish\n",
       "0      het        12.00     1\n",
       "1      het        33.00     1\n",
       "2      het         0.96     1\n",
       "3      het         4.98     1\n",
       "4      het         1.98     1"
      ]
     },
     "execution_count": 4,
     "metadata": {},
     "output_type": "execute_result"
    }
   ],
   "source": [
    "fish_data.head()"
   ]
  },
  {
   "cell_type": "markdown",
   "metadata": {},
   "source": [
    "#### EDA: Plot ECDFs of active bout length\n",
    "An active bout is a stretch of time where a fish is constantly moving. Plot an ECDF of active bout length for the mutant and wild type fish for the seventh night of their lives. The data sets are in the numpy arrays bout_lengths_wt and bout_lengths_mut. The bout lengths are in units of minutes."
   ]
  },
  {
   "cell_type": "code",
   "execution_count": 8,
   "metadata": {},
   "outputs": [],
   "source": [
    "#bout length of wild type\n",
    "bout_lengths_wt = fish_data.loc[fish_data['genotype'] == 'wt', 'bout_length'].values\n",
    "#bout length of mutant type\n",
    "bout_lengths_mut = fish_data.loc[fish_data['genotype'] == 'mut', 'bout_length'].values\n",
    "#bout length of heterozygotic type\n",
    "bout_lengths_het = fish_data.loc[fish_data['genotype'] == 'het', 'bout_length'].values\n"
   ]
  },
  {
   "cell_type": "code",
   "execution_count": 6,
   "metadata": {},
   "outputs": [
    {
     "data": {
      "image/png": "[encoded data removed]",
      "text/plain": [
       "<Figure size 432x288 with 1 Axes>"
      ]
     },
     "metadata": {
      "needs_background": "light"
     },
     "output_type": "display_data"
    }
   ],
   "source": [
    "#getting values for ecdf\n",
    "x_wt, y_wt = ecdf(bout_lengths_wt)\n",
    "x_mut, y_mut = ecdf(bout_lengths_mut)\n",
    "\n",
    "#plotting\n",
    "_ = plt.plot(x_wt, y_wt, marker = '.', linestyle = 'none')\n",
    "_ = plt.plot(x_mut, y_mut, marker = '.', linestyle = 'none')\n",
    "_ = plt.legend(('wild type', 'mutated'), loc = 'lower right')\n",
    "_ = plt.xlabel('Active bout length(min)')\n",
    "_ = plt.ylabel('ECDF')\n",
    "plt.show()"
   ]
  },
  {
   "cell_type": "markdown",
   "metadata": {},
   "source": [
    "The bout lengths appear Exponentially distributed, which implies that exiting an active bout to rest is a Poisson process; the fish have no apparent memory about when they became active."
   ]
  },
  {
   "cell_type": "markdown",
   "metadata": {},
   "source": [
    "Computing the mean active bout length for wild type and mutant, with 95% bootstrap confidence interval."
   ]
  },
  {
   "cell_type": "code",
   "execution_count": 7,
   "metadata": {},
   "outputs": [
    {
     "name": "stdout",
     "output_type": "stream",
     "text": [
      "\n",
      "wt:  mean = 3.874 min., conf. int. = [3.6, 4.1] min.\n",
      "mut: mean = 6.543 min., conf. int. = [6.1, 7.0] min.\n",
      "\n"
     ]
    }
   ],
   "source": [
    "np.random.seed(43)\n",
    "# Compute mean active bout length\n",
    "mean_wt = np.mean(bout_lengths_wt)\n",
    "mean_mut = np.mean(bout_lengths_mut)\n",
    "\n",
    "# Draw bootstrap replicates\n",
    "bs_reps_wt = draw_bs_reps(bout_lengths_wt, np.mean, size=10000)\n",
    "bs_reps_mut = draw_bs_reps(bout_lengths_mut, np.mean, size=10000)\n",
    "\n",
    "# Compute 95% confidence intervals\n",
    "conf_int_wt = np.percentile(bs_reps_wt, [2.5, 97.5])\n",
    "conf_int_mut = np.percentile(bs_reps_mut, [2.5, 97.5])\n",
    "\n",
    "# Print the results\n",
    "print(\"\"\"\n",
    "wt:  mean = {0:.3f} min., conf. int. = [{1:.1f}, {2:.1f}] min.\n",
    "mut: mean = {3:.3f} min., conf. int. = [{4:.1f}, {5:.1f}] min.\n",
    "\"\"\".format(mean_wt, *conf_int_wt, mean_mut, *conf_int_mut))"
   ]
  },
  {
   "cell_type": "markdown",
   "metadata": {},
   "source": [
    "# Hypothesis Testing\n",
    "\n",
    "Test the hypothesis that the heterozygote and wild type bout lengths are identically distributed using a permutation test."
   ]
  },
  {
   "cell_type": "markdown",
   "metadata": {},
   "source": [
    "## Pipeline\tfor\thypothesis\ttesting\n",
    "1.Clearly\tstate\tthe\tnull\thypothesis\n",
    "2.Define\tyour\ttest\tstatistic\n",
    "3.Generate\tmany\tsets\tof\tsimulated\tdata\tassuming\tthe\tnull\thypothesis is\ttrue \n",
    "4.Compute\tthe\ttest\tstatistic\tfor\teach\tsimulated\tdataset \n",
    "5.The\tp-value\tis\tthe\tfraction of\tyour simulated\tdata\tsets\tfor\twhich\tthe test\tstatistic\tis\tat\tleast as extreme as\tfor\tthe\treal data"
   ]
  },
  {
   "cell_type": "code",
   "execution_count": 12,
   "metadata": {},
   "outputs": [
    {
     "data": {
      "text/plain": [
       "0.0012"
      ]
     },
     "execution_count": 12,
     "metadata": {},
     "output_type": "execute_result"
    }
   ],
   "source": [
    "np.random.seed(42)\n",
    "# original difference of mean in heterozygote and wild type\n",
    "diff_of_mean_bout = np.mean(bout_lengths_het) - np.mean(bout_lengths_wt)\n",
    "#generating data under the assumption that null hypothesis is true\n",
    "perm_rep_mean = draw_perm_replicate(bout_lengths_het, bout_lengths_wt, diff_of_mean, size = 10000)\n",
    "p_value = np.sum(perm_rep_mean >=diff_of_mean_bout)/len(perm_rep_mean)\n",
    "p_value"
   ]
  },
  {
   "cell_type": "markdown",
   "metadata": {},
   "source": [
    "A p-value of 0.0012 suggests that the observed difference in means is unlikely to occur if heterozygotic and wild type fish have active bout lengths that are identically distributed."
   ]
  },
  {
   "cell_type": "markdown",
   "metadata": {},
   "source": [
    "# Bootstrap hypothesis test\n",
    "The permutation test has a pretty restrictive hypothesis, that the heterozygotic and wild type bout lengths are identically distributed. Now, use a bootstrap hypothesis test to test the hypothesis that the means are equal, making no assumptions about the distributions."
   ]
  },
  {
   "cell_type": "code",
   "execution_count": 14,
   "metadata": {},
   "outputs": [
    {
     "data": {
      "text/plain": [
       "0.0005"
      ]
     },
     "execution_count": 14,
     "metadata": {},
     "output_type": "execute_result"
    }
   ],
   "source": [
    "np.random.seed(42)\n",
    "mean_bout_length = np.mean(np.concatenate((bout_lengths_het, bout_lengths_wt)))\n",
    "wt_shifted = bout_lengths_wt - np.mean(bout_lengths_wt) + mean_bout_length\n",
    "het_shifted = bout_lengths_het - np.mean(bout_lengths_het) + mean_bout_length\n",
    "bs_reps_wt = draw_bs_reps(wt_shifted, np.mean, size = 10000)\n",
    "bs_reps_het = draw_bs_reps(het_shifted, np.mean, size = 10000)\n",
    "bs_reps = bs_reps_het - bs_reps_wt\n",
    "\n",
    "p = np.sum(bs_reps >= diff_of_mean_bout)/len(bs_reps)\n",
    "p"
   ]
  },
  {
   "cell_type": "markdown",
   "metadata": {},
   "source": [
    "Since we got a smaller value than significance level so het and wt fish are different"
   ]
  }
 ],
 "metadata": {
  "kernelspec": {
   "display_name": "Python 3",
   "language": "python",
   "name": "python3"
  },
  "language_info": {
   "codemirror_mode": {
    "name": "ipython",
    "version": 3
   },
   "file_extension": ".py",
   "mimetype": "text/x-python",
   "name": "python",
   "nbconvert_exporter": "python",
   "pygments_lexer": "ipython3",
   "version": "3.6.8"
  }
 },
 "nbformat": 4,
 "nbformat_minor": 2
}
