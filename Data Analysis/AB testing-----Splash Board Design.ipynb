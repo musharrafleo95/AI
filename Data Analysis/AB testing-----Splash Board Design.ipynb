{
 "cells": [
  {
   "cell_type": "markdown",
   "metadata": {},
   "source": [
    "Suppose we design a splash board and want to know how much does it affect the click rate. So we divided 1000 people into half for the original design(A) and half for the new design(B). We found out that for A, 45 people click through the website and for B, 67 people click through the website . So we are happy because there is almost 50% increase in the click through rate. But may be there is no effect because of the new design and % increase is just because of chance so we want to check: what is the probabilty that you would observe at least the 'number of click through'  if there was no effect because of the new design. So we can use a permutation test to simulate the result as if the redesign had no effect on the click through rate. \n",
    "\n",
    "<br/>\n",
    "Ho: the click through rate is not effected by the redesign\n",
    "<br/>\n",
    "Ha: The click through rate is greater for splash board B"
   ]
  },
  {
   "cell_type": "code",
   "execution_count": 6,
   "metadata": {},
   "outputs": [],
   "source": [
    "import numpy as np\n",
    "#Click through A , click through b are arrays of 1s and 0s\n",
    "click_through_A = np.array(45*[True] + 455*[False])\n",
    "click_through_B = np.array(67*[True] + 433*[False])\n"
   ]
  },
  {
   "cell_type": "code",
   "execution_count": 7,
   "metadata": {},
   "outputs": [],
   "source": [
    "def permutation_sample(data1, data2):\n",
    "    '''genrate permutation samples'''\n",
    "    data = np.concatenate((data1, data2))\n",
    "    permuted_data = np.random.permutation(data)\n",
    "    perm_sample_1 = permuted_data[:len(data1)]\n",
    "    perm_sample_2 = permuted_data[len(data1):]\n",
    "    return perm_sample_1, perm_sample_2\n",
    "\n",
    "def draw_perm_reps(data1, data2, func, size = 1):\n",
    "    '''generate multiple permutation replicates'''\n",
    "    perm_replicates = np.empty(size)\n",
    "    for i in range(size):\n",
    "        perm_sample1, perm_sample2 = permutation_sample(data1, data2)\n",
    "        perm_replicates[i] = func(perm_sample1, perm_sample2)\n",
    "    return perm_replicates\n",
    "\n",
    "def diff_frac(data1, data2):\n",
    "    frac1 = np.sum(data1)/len(data1)\n",
    "    frac2 = np.sum(data2)/len(data2)\n",
    "    return frac2 - frac1"
   ]
  },
  {
   "cell_type": "code",
   "execution_count": 9,
   "metadata": {},
   "outputs": [
    {
     "data": {
      "text/plain": [
       "1.58"
      ]
     },
     "execution_count": 9,
     "metadata": {},
     "output_type": "execute_result"
    }
   ],
   "source": [
    "np.random.seed(2)\n",
    "diff_frac_obs = diff_frac(click_through_A, click_through_B)\n",
    "permutation_replicates = draw_perm_reps(click_through_A, click_through_B, diff_frac, size = 10000)\n",
    "p = np.sum(permutation_replicates >= diff_frac_obs)/len(permutation_replicates)\n",
    "p*100"
   ]
  },
  {
   "cell_type": "markdown",
   "metadata": {},
   "source": [
    "Since the P value is less than 5 percent so it gives statistically significant evidence in favour of alternate hypothesis. So we reject null hypothesis and conclude that the new splash board design indeed have more click through"
   ]
  }
 ],
 "metadata": {
  "kernelspec": {
   "display_name": "Python 3",
   "language": "python",
   "name": "python3"
  },
  "language_info": {
   "codemirror_mode": {
    "name": "ipython",
    "version": 3
   },
   "file_extension": ".py",
   "mimetype": "text/x-python",
   "name": "python",
   "nbconvert_exporter": "python",
   "pygments_lexer": "ipython3",
   "version": "3.6.8"
  }
 },
 "nbformat": 4,
 "nbformat_minor": 2
}
