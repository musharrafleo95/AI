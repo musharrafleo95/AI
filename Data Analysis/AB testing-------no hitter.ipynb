{
 "cells": [
  {
   "cell_type": "code",
   "execution_count": 11,
   "metadata": {},
   "outputs": [],
   "source": [
    "import numpy as np\n",
    "import matplotlib.pyplot as plt\n",
    "import seaborn as sns\n",
    "sns.set()\n",
    "nht_dead = np.array([  -1,  894,   10,  130,    1,  934,   29,    6,  485,  254,  372,\n",
    "         81,  191,  355,  180,  286,   47,  269,  361,  173,  246,  492,\n",
    "        462, 1319,   58,  297,   31, 2970,  640,  237,  434,  570,   77,\n",
    "        271,  563, 3365,   89,    0,  379,  221,  479,  367,  628,  843,\n",
    "       1613, 1101,  215,  684,  814,  278,  324,  161,  219,  545,  715,\n",
    "        966,  624,   29,  450,  107,   20,   91, 1325,  124, 1468,  104,\n",
    "       1309,  429,   62, 1878, 1104,  123,  251,   93,  188,  983,  166,\n",
    "         96,  702,   23,  524,   26,  299,   59,   39,   12,    2,  308,\n",
    "       1114,  813,  887])\n",
    "nht_live = np.array([ 645, 2088,   42, 2090,   11,  886, 1665, 1084, 2900, 2432,  750,\n",
    "       4021, 1070, 1765, 1322,   26,  548, 1525,   77, 2181, 2752,  127,\n",
    "       2147,  211,   41, 1575,  151,  479,  697,  557, 2267,  542,  392,\n",
    "         73,  603,  233,  255,  528,  397, 1529, 1023, 1194,  462,  583,\n",
    "         37,  943,  996,  480, 1497,  717,  224,  219, 1531,  498,   44,\n",
    "        288,  267,  600,   52,  269, 1086,  386,  176, 2199,  216,   54,\n",
    "        675, 1243,  463,  650,  171,  327,  110,  774,  509,    8,  197,\n",
    "        136,   12, 1124,   64,  380,  811,  232,  192,  731,  715,  226,\n",
    "        605,  539, 1491,  323,  240,  179,  702,  156,   82, 1397,  354,\n",
    "        778,  603, 1001,  385,  986,  203,  149,  576,  445,  180, 1403,\n",
    "        252,  675, 1351, 2983, 1568,   45,  899, 3260, 1025,   31,  100,\n",
    "       2055, 4043,   79,  238, 3931, 2351,  595,  110,  215,    0,  563,\n",
    "        206,  660,  242,  577,  179,  157,  192,  192, 1848,  792, 1693,\n",
    "         55,  388,  225, 1134, 1172, 1555,   31, 1582, 1044,  378, 1687,\n",
    "       2915,  280,  765, 2819,  511, 1521,  745, 2491,  580, 2072, 6450,\n",
    "        578,  745, 1075, 1103, 1549, 1520,  138, 1202,  296,  277,  351,\n",
    "        391,  950,  459,   62, 1056, 1128,  139,  420,   87,   71,  814,\n",
    "        603, 1349,  162, 1027,  783,  326,  101,  876,  381,  905,  156,\n",
    "        419,  239,  119,  129,  467])"
   ]
  },
  {
   "cell_type": "markdown",
   "metadata": {},
   "source": [
    "We return to the no-hitter data set. In 1920, Major League Baseball implemented important rule changes that ended the so-called dead ball era. Importantly, the pitcher was no longer allowed to spit on or scuff the ball, an activity that greatly favors pitchers. In this problem you will perform an A/B test to determine if these rule changes resulted in a slower rate of no-hitters (i.e., longer average time between no-hitters) using the difference in mean inter-no-hitter time as your test statistic. The inter-no-hitter times for the respective eras are stored in the arrays <b>nht_dead</b> and <b>nht_live</b>, where \"nht\" is meant to stand for \"no-hitter time.\""
   ]
  },
  {
   "cell_type": "code",
   "execution_count": 19,
   "metadata": {},
   "outputs": [],
   "source": [
    "def ecdf(data):\n",
    "    '''creating data for cumulative distribution'''\n",
    "    x = np.sort(data)\n",
    "    y = np.arange(1, len(x) +1)/len(x)\n",
    "    return x, y\n",
    "\n",
    "def diff_of_means(data1, data2):\n",
    "    '''generate difference of means'''\n",
    "    return np.mean(data1)-np.mean(data2)\n",
    "\n",
    "def permutation_samples(data1, data2):\n",
    "    '''genrate permutation replicates'''\n",
    "    data = np.concatenate((data1, data2))\n",
    "    permute_sample = np.random.permutation(data)\n",
    "    perm1 = permute_sample[:len(data1)]\n",
    "    perm2 = permute_sample[len(data1):]\n",
    "    return perm1, perm2\n",
    "\n",
    "def draw_perm_reps(data1, data2, func, size = 1):\n",
    "    '''generate permutation replicates'''\n",
    "    perm_replicates = np.empty(size)\n",
    "    for i in range(size):\n",
    "        perm1, perm2 = permutation_samples(data1, data2)\n",
    "        perm_replicates[i] = func(perm1, perm2)\n",
    "        \n",
    "    return perm_replicates"
   ]
  },
  {
   "cell_type": "code",
   "execution_count": 18,
   "metadata": {},
   "outputs": [
    {
     "data": {
      "image/png": "[encoded data removed]",
      "text/plain": [
       "<Figure size 432x288 with 1 Axes>"
      ]
     },
     "metadata": {
      "needs_background": "light"
     },
     "output_type": "display_data"
    }
   ],
   "source": [
    "#plotting the ecdf to check that the null hypothesis that is the distribution are identical is not true\n",
    "for _ in range(100):\n",
    "    perm_sample1, perm_sample2 = permutation_samples(nht_dead, nht_live)\n",
    "    \n",
    "    x_1, y_1 = ecdf(perm_sample1)\n",
    "    x_2, y_2 = ecdf(perm_sample2)\n",
    "    \n",
    "    _ = plt.plot(x_1, y_1, marker = '.', linestyle = 'none', color = 'red', alpha = 0.02)\n",
    "    _ = plt.plot(x_2, y_2, marker = '.', linestyle = 'none', color = 'blue', alpha = 0.02)\n",
    "    \n",
    "#ecdf plot of original data\n",
    "x_1, y_1 = ecdf(nht_dead)\n",
    "x_2, y_2 = ecdf(nht_live)\n",
    "\n",
    "_ = plt.plot(x_1, y_1, marker = '.', linestyle = 'none', color = 'red')\n",
    "_ = plt.plot(x_2, y_2, marker = '.', linestyle = 'none', color = 'black')\n",
    "\n",
    "_ = plt.xlabel('Inter No hitting Time')\n",
    "_ = plt.ylabel('Ecdf')\n",
    "plt.show()\n",
    "    "
   ]
  },
  {
   "cell_type": "markdown",
   "metadata": {},
   "source": [
    "As we can see the red and black line do not collide with permutation sample so we can say that they are not identically distributed"
   ]
  },
  {
   "cell_type": "code",
   "execution_count": 10,
   "metadata": {},
   "outputs": [
    {
     "data": {
      "text/plain": [
       "0.0001"
      ]
     },
     "execution_count": 10,
     "metadata": {},
     "output_type": "execute_result"
    }
   ],
   "source": [
    "np.random.seed(42)\n",
    "nht_diff_obs = diff_of_means(nht_dead, nht_live)\n",
    "perm_replicates = draw_perm_reps(nht_dead, nht_live, diff_of_means, size = 10000)\n",
    "p = np.sum(perm_replicates <= nht_diff_obs)/len(perm_replicates)\n",
    "p"
   ]
  },
  {
   "cell_type": "markdown",
   "metadata": {},
   "source": [
    "our p-value is 0.0001, which means that only one out of your 10,000 replicates had a result as extreme as the actual difference between the dead ball and live ball eras. This suggests strong statistical significance. Watch out, though, you could very well have gotten zero replicates that were as extreme as the observed value. This just means that the p-value is quite small, almost certainly smaller than 0.001."
   ]
  }
 ],
 "metadata": {
  "kernelspec": {
   "display_name": "Python 3",
   "language": "python",
   "name": "python3"
  },
  "language_info": {
   "codemirror_mode": {
    "name": "ipython",
    "version": 3
   },
   "file_extension": ".py",
   "mimetype": "text/x-python",
   "name": "python",
   "nbconvert_exporter": "python",
   "pygments_lexer": "ipython3",
   "version": "3.6.8"
  }
 },
 "nbformat": 4,
 "nbformat_minor": 2
}
