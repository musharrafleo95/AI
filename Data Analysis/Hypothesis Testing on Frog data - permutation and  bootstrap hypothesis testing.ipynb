{
 "cells": [
  {
   "cell_type": "markdown",
   "metadata": {},
   "source": [
    "Kleinteich and Gorb (Sci. Rep., 4, 5225, 2014) performed an interesting experiment with South American horned frogs. They held a plate connected to a force transducer, along with a bait fly, in front of them. They then measured the impact force and adhesive force of the frog's tongue when it struck the target.\n",
    "\n",
    "Frog A is an adult and Frog B is a juvenile. The researchers measured the impact force of 20 strikes for each frog.  we will test the hypothesis that the two frogs have the same distribution of impact forces. \n",
    "The average strike force of Frog A was 0.71 Newtons (N), and that of Frog B was 0.42 N for a difference of 0.29 N. It is possible the frogs strike with the same force and this observed difference was by chance. We will compute the probability of getting at least a 0.29 N difference in mean strike force under the hypothesis that the distributions of strike forces for the two frogs are identical. We use a permutation test with a test statistic of the difference of means to test this hypothesis."
   ]
  },
  {
   "cell_type": "code",
   "execution_count": 3,
   "metadata": {},
   "outputs": [],
   "source": [
    "force_a = np.array([1.612, 0.605, 0.327, 0.946, 0.541, 1.539, 0.529, 0.628, 1.453,\n",
    "       0.297, 0.703, 0.269, 0.751, 0.245, 1.182, 0.515, 0.435, 0.383,\n",
    "       0.457, 0.73 ])\n",
    "force_b = np.array([0.172, 0.142, 0.037, 0.453, 0.355, 0.022, 0.502, 0.273, 0.72 ,\n",
    "       0.582, 0.198, 0.198, 0.597, 0.516, 0.815, 0.402, 0.605, 0.711,\n",
    "       0.614, 0.468])"
   ]
  },
  {
   "cell_type": "code",
   "execution_count": 2,
   "metadata": {},
   "outputs": [],
   "source": [
    "import numpy as np\n",
    "import pandas as pd\n",
    "import matplotlib.pyplot as plt\n",
    "import seaborn as sns\n",
    "sns.set()"
   ]
  },
  {
   "cell_type": "code",
   "execution_count": 4,
   "metadata": {},
   "outputs": [],
   "source": [
    "def permutation_sample(data1, data2):\n",
    "    '''Generate permutation sample from two data set'''\n",
    "    data = np.concatenate((data1, data2))\n",
    "    permuted_data = np.random.permutation(data)\n",
    "    perm_sample1 = permuted_data[:len(data1)]\n",
    "    perm_sample2 = permuted_data[len(data2):]\n",
    "    return perm_sample1, perm_sample2\n",
    "\n",
    "def draw_perm_replicates(data1, data2, func, size = 1):\n",
    "    '''generate permutation replicates of data'''\n",
    "    perm_replicates = np.empty(size)\n",
    "    for i in range(size):\n",
    "        perm1, perm2 = permutation_sample(data1, data2)\n",
    "        perm_replicates[i] = func(perm1, perm2)\n",
    "    return perm_replicates\n",
    "\n",
    "def diff_of_means(data1, data2):\n",
    "    return np.mean(data1) - np.mean(data2)\n",
    "\n",
    "def bs_replicate_1d(data, func):\n",
    "    bs_replicate = np.random.choice(data, size = len(data))\n",
    "    return func(bs_replicate)\n",
    "\n",
    "def draw_bs_reps(data, func, size = 1):\n",
    "    bs_replicates = np.empty(size)\n",
    "    for i in range(size):\n",
    "        bs_replicates[i] = bs_replicate_1d(data, func)\n",
    "    return bs_replicates\n",
    "\n",
    "def ecdf(data):\n",
    "    x = np.sort(data)\n",
    "    y = np.arange(1, len(x)+1)/len(x)\n",
    "    return x, y"
   ]
  },
  {
   "cell_type": "code",
   "execution_count": 14,
   "metadata": {},
   "outputs": [],
   "source": [
    "#DOing eda first\n",
    "df = pd.DataFrame({'ID':'A',\n",
    "                   'Forces':np.concatenate((force_a, force_b))})\n",
    "df.iloc[20:, 0] = 'B'"
   ]
  },
  {
   "cell_type": "code",
   "execution_count": 15,
   "metadata": {},
   "outputs": [
    {
     "data": {
      "image/png": "[encoded data removed]",
      "text/plain": [
       "<Figure size 432x288 with 1 Axes>"
      ]
     },
     "metadata": {},
     "output_type": "display_data"
    }
   ],
   "source": [
    "_ = sns.swarmplot(x = 'ID', y = 'Forces', data = df)\n",
    "_ = plt.xlabel('frog')\n",
    "_ = plt.ylabel('impact forces(N)')\n",
    "plt.show()"
   ]
  },
  {
   "cell_type": "markdown",
   "metadata": {},
   "source": [
    "it seems like the frog A have 5 high forces strike whereas forg b had some low forces strike. But we have only 20 samples so we can't say for sure that they are from a different distribution and may be the variation present here is just due to chance"
   ]
  },
  {
   "cell_type": "code",
   "execution_count": 17,
   "metadata": {},
   "outputs": [
    {
     "data": {
      "text/plain": [
       "(array([  12.,  135.,  564., 1444., 2336., 2560., 1834.,  841.,  230.,\n",
       "          44.]),\n",
       " array([-0.40915, -0.33022, -0.25129, -0.17236, -0.09343, -0.0145 ,\n",
       "         0.06443,  0.14336,  0.22229,  0.30122,  0.38015]),\n",
       " <a list of 10 Patch objects>)"
      ]
     },
     "execution_count": 17,
     "metadata": {},
     "output_type": "execute_result"
    },
    {
     "data": {
      "image/png": "[encoded data removed]",
      "text/plain": [
       "<Figure size 432x288 with 1 Axes>"
      ]
     },
     "metadata": {},
     "output_type": "display_data"
    }
   ],
   "source": [
    "#Doing hypothesis testing\n",
    "np.random.seed(42)\n",
    "obs_diff = diff_of_means(force_a, force_b)\n",
    "perm_rep_diff = draw_perm_replicates(force_a, force_b, diff_of_means, size = 10000)\n",
    "plt.hist(perm_rep_diff)"
   ]
  },
  {
   "cell_type": "code",
   "execution_count": 18,
   "metadata": {},
   "outputs": [
    {
     "data": {
      "text/plain": [
       "0.0063"
      ]
     },
     "execution_count": 18,
     "metadata": {},
     "output_type": "execute_result"
    }
   ],
   "source": [
    "p = np.sum(perm_rep_diff >= obs_diff)/len(perm_rep_diff)\n",
    "p"
   ]
  },
  {
   "cell_type": "markdown",
   "metadata": {},
   "source": [
    "The p-value tells that there is a 0.6% of observing the mean from the experiment if both of the frogs were exactly the same. Since the p-value is less than the significant value so we will reject the null hypothesis and conclude the two frogs are different."
   ]
  },
  {
   "cell_type": "markdown",
   "metadata": {},
   "source": [
    "## A one-sample bootstrap hypothesis test\n",
    "Another juvenile frog was studied, Frog C, and we want to see if Frog B and Frog C have similar impact forces. Unfortunately, we do not have Frog C's impact forces available, but we know they have a mean of 0.55 N. Because we don't have the original data, we cannot do a permutation test, and cannot assess the hypothesis that the forces from Frog B and Frog C come from the same distribution. we will therefore test another, less restrictive hypothesis: The mean strike force of Frog B is equal to that of Frog C.\n",
    "</p>\n",
    "To set up the bootstrap hypothesis test, we will take the mean as our test statistic. our goal is to calculate the probability of getting a mean impact force less than or equal to what was observed for Frog B if the hypothesis that the true mean of Frog B's impact forces is equal to that of Frog C is true. we first translate all of the data of Frog B such that the mean is 0.55 N. This involves adding the mean force of Frog C and subtracting the mean force of Frog B from each measurement of Frog B. This leaves other properties of Frog B's distribution, such as the variance, unchanged."
   ]
  },
  {
   "cell_type": "code",
   "execution_count": 6,
   "metadata": {},
   "outputs": [
    {
     "data": {
      "text/plain": [
       "0.0046"
      ]
     },
     "execution_count": 6,
     "metadata": {},
     "output_type": "execute_result"
    }
   ],
   "source": [
    "np.random.seed(42)\n",
    "#translating the impact of frog B to frog c\n",
    "translated_force_b = force_b - np.mean(force_b) + 0.55\n",
    "\n",
    "#generating bootstrap replicate\n",
    "bs_mean_repl = draw_bs_reps(translated_force_b, np.mean, size = 10000)\n",
    "\n",
    "#Generating p-value\n",
    "p = np.sum(bs_mean_repl <= np.mean(force_b))/len(bs_mean_repl)\n",
    "p"
   ]
  },
  {
   "cell_type": "markdown",
   "metadata": {},
   "source": [
    "since the p value is less than the significance level so we will reject the null hypothesis that frog b and c are from the same distribution"
   ]
  },
  {
   "cell_type": "markdown",
   "metadata": {},
   "source": [
    "## A two-sample bootstrap hypothesis test for difference of means\n",
    "We now want to test the hypothesis that Frog A and Frog B have the same mean impact force, but not necessarily the same distribution, which is also impossible with a permutation test.\n",
    "\n",
    "To do the two-sample bootstrap test, we shift both arrays to have the same mean, since we are simulating the hypothesis that their means are, in fact, equal. We then draw bootstrap samples out of the shifted arrays and compute the difference in means. This constitutes a bootstrap replicate, and we generate many of them. The p-value is the fraction of replicates with a difference in means greater than or equal to what was observed.\n",
    "\n",
    "The objects forces_concat and empirical_diff_means are already in your namespace."
   ]
  },
  {
   "cell_type": "code",
   "execution_count": 9,
   "metadata": {},
   "outputs": [
    {
     "data": {
      "text/plain": [
       "0.0043"
      ]
     },
     "execution_count": 9,
     "metadata": {},
     "output_type": "execute_result"
    }
   ],
   "source": [
    "np.random.seed(42)\n",
    "#getting the observed diff\n",
    "obs_diff = diff_of_means(force_a, force_b)\n",
    "\n",
    "mean_force = np.mean(np.concatenate((force_a, force_b)))\n",
    "#Shifting the data to get the same mean\n",
    "force_a_shifted = force_a - np.mean(force_a) + mean_force\n",
    "force_b_shifted = force_b - np.mean(force_b) + mean_force\n",
    "#generating replicates\n",
    "bs_reps_force_a = draw_bs_reps(force_a_shifted, np.mean, size = 10000)\n",
    "bs_reps_force_b = draw_bs_reps(force_b_shifted, np.mean, size = 10000)\n",
    "\n",
    "bs_reps_diff = bs_reps_force_a - bs_reps_force_b\n",
    "\n",
    "p = np.sum(bs_reps_diff >= obs_diff)/len(bs_reps_diff)\n",
    "p"
   ]
  },
  {
   "cell_type": "markdown",
   "metadata": {},
   "source": [
    "We got approximately the sampe p-value as above"
   ]
  }
 ],
 "metadata": {
  "kernelspec": {
   "display_name": "Python 3",
   "language": "python",
   "name": "python3"
  },
  "language_info": {
   "codemirror_mode": {
    "name": "ipython",
    "version": 3
   },
   "file_extension": ".py",
   "mimetype": "text/x-python",
   "name": "python",
   "nbconvert_exporter": "python",
   "pygments_lexer": "ipython3",
   "version": "3.6.8"
  }
 },
 "nbformat": 4,
 "nbformat_minor": 2
}
