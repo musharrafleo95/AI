{
 "cells": [
  {
   "cell_type": "code",
   "execution_count": 1,
   "metadata": {},
   "outputs": [],
   "source": [
    "import pandas as pd\n",
    "import numpy as np\n",
    "import matplotlib.pyplot as plt\n",
    "import seaborn as sns\n",
    "sns.set()"
   ]
  },
  {
   "cell_type": "code",
   "execution_count": 2,
   "metadata": {},
   "outputs": [],
   "source": [
    "bacteria_data = pd.read_csv('park_bacterial_growth.csv',skiprows = 2)"
   ]
  },
  {
   "cell_type": "code",
   "execution_count": 4,
   "metadata": {},
   "outputs": [
    {
     "data": {
      "text/html": [
       "<div>\n",
       "<style scoped>\n",
       "    .dataframe tbody tr th:only-of-type {\n",
       "        vertical-align: middle;\n",
       "    }\n",
       "\n",
       "    .dataframe tbody tr th {\n",
       "        vertical-align: top;\n",
       "    }\n",
       "\n",
       "    .dataframe thead th {\n",
       "        text-align: right;\n",
       "    }\n",
       "</style>\n",
       "<table border=\"1\" class=\"dataframe\">\n",
       "  <thead>\n",
       "    <tr style=\"text-align: right;\">\n",
       "      <th></th>\n",
       "      <th>bacterial area (sq. microns)</th>\n",
       "      <th>time (hr)</th>\n",
       "    </tr>\n",
       "  </thead>\n",
       "  <tbody>\n",
       "    <tr>\n",
       "      <th>0</th>\n",
       "      <td>5.574735</td>\n",
       "      <td>0.00</td>\n",
       "    </tr>\n",
       "    <tr>\n",
       "      <th>1</th>\n",
       "      <td>5.712023</td>\n",
       "      <td>0.25</td>\n",
       "    </tr>\n",
       "    <tr>\n",
       "      <th>2</th>\n",
       "      <td>5.903395</td>\n",
       "      <td>0.50</td>\n",
       "    </tr>\n",
       "    <tr>\n",
       "      <th>3</th>\n",
       "      <td>6.194612</td>\n",
       "      <td>0.75</td>\n",
       "    </tr>\n",
       "    <tr>\n",
       "      <th>4</th>\n",
       "      <td>6.456708</td>\n",
       "      <td>1.00</td>\n",
       "    </tr>\n",
       "  </tbody>\n",
       "</table>\n",
       "</div>"
      ],
      "text/plain": [
       "   bacterial area (sq. microns)  time (hr)\n",
       "0                      5.574735       0.00\n",
       "1                      5.712023       0.25\n",
       "2                      5.903395       0.50\n",
       "3                      6.194612       0.75\n",
       "4                      6.456708       1.00"
      ]
     },
     "execution_count": 4,
     "metadata": {},
     "output_type": "execute_result"
    }
   ],
   "source": [
    "bacteria_data.head()"
   ]
  },
  {
   "cell_type": "code",
   "execution_count": 25,
   "metadata": {},
   "outputs": [
    {
     "data": {
      "text/plain": [
       "[0, 1, 2, 3]"
      ]
     },
     "execution_count": 25,
     "metadata": {},
     "output_type": "execute_result"
    }
   ],
   "source": [
    "x = [1, 2, 3, 4]\n",
    "len(x)\n",
    "index = np.array([0,len(x)-1])\n",
    "index = list(range(len(x)))\n",
    "index"
   ]
  },
  {
   "cell_type": "code",
   "execution_count": 26,
   "metadata": {},
   "outputs": [],
   "source": [
    "\n",
    "def draw_bs_par_linreg(x, y, size = 1):\n",
    "    slope_reps = np.empty(size)\n",
    "    intercept_reps = np.empty(size)\n",
    "    index = list(range(len(x)))\n",
    "    for i in range(size):\n",
    "        bs_index = np.random.choice(index, size = len(index))\n",
    "        x_bs, y_bs = x[bs_index], y[bs_index]\n",
    "        slope_reps[i], intercept_reps[i] = np.polyfit(x_bs, y_bs, 1)\n",
    "    return slope_reps, intercept_reps"
   ]
  },
  {
   "cell_type": "code",
   "execution_count": 5,
   "metadata": {},
   "outputs": [],
   "source": [
    "bac_area = bacteria_data['bacterial area (sq. microns)'].values\n",
    "t = bacteria_data['time (hr)'].values"
   ]
  },
  {
   "cell_type": "code",
   "execution_count": 9,
   "metadata": {},
   "outputs": [
    {
     "data": {
      "image/png": "[encoded data removed]",
      "text/plain": [
       "<Figure size 432x288 with 1 Axes>"
      ]
     },
     "metadata": {
      "needs_background": "light"
     },
     "output_type": "display_data"
    }
   ],
   "source": [
    "_ = plt.plot(t, bac_area, marker = '.', linestyle = 'none')\n",
    "_ = plt.xlabel('Time(hr)')\n",
    "_ = plt.ylabel('Bacteria Area(sq Microns)')\n",
    "plt.show()"
   ]
  },
  {
   "cell_type": "markdown",
   "metadata": {},
   "source": [
    "As we can see that the above relationship cannot be quantofy by a linear model so we will use log on y axis"
   ]
  },
  {
   "cell_type": "code",
   "execution_count": 10,
   "metadata": {},
   "outputs": [
    {
     "data": {
      "image/png": "[encoded data removed]",
      "text/plain": [
       "<Figure size 432x288 with 1 Axes>"
      ]
     },
     "metadata": {
      "needs_background": "light"
     },
     "output_type": "display_data"
    }
   ],
   "source": [
    "_ = plt.semilogy(t, bac_area, marker = '.', linestyle = 'none') #it converts y axis into log\n",
    "_ = plt.xlabel('Time(hr)')\n",
    "_ = plt.ylabel('Bacteria Area(sq Microns)')\n",
    "plt.show()"
   ]
  },
  {
   "cell_type": "code",
   "execution_count": 14,
   "metadata": {},
   "outputs": [
    {
     "data": {
      "image/png": "[encoded data removed]",
      "text/plain": [
       "<Figure size 432x288 with 1 Axes>"
      ]
     },
     "metadata": {
      "needs_background": "light"
     },
     "output_type": "display_data"
    }
   ],
   "source": [
    "# or we can use this method\n",
    "_ = plt.plot(t, np.log(bac_area), marker = '.', linestyle = 'none')\n",
    "_ = plt.xlabel('Time(hr)')\n",
    "_ = plt.ylabel('Bacteria Area(sq Microns)')\n",
    "plt.show()"
   ]
  },
  {
   "cell_type": "code",
   "execution_count": 15,
   "metadata": {},
   "outputs": [
    {
     "data": {
      "image/png": "[encoded data removed]",
      "text/plain": [
       "<Figure size 432x288 with 1 Axes>"
      ]
     },
     "metadata": {
      "needs_background": "light"
     },
     "output_type": "display_data"
    }
   ],
   "source": [
    "growthRate, intercept = np.polyfit(t, np.log(bac_area), 1)\n",
    "t_theor = np.array([min(t)-0.5, max(t)+0.5])\n",
    "bac_area_theor = np.exp(growthRate*t_theor + intercept)\n",
    "\n",
    "_ = plt.semilogy(t, bac_area, marker = '.', linestyle = 'none')\n",
    "_ = plt.semilogy(t_theor, bac_area_theor)\n",
    "_ = plt.xlabel('Time(hr)')\n",
    "_ = plt.ylabel('Bacteria Area(sq Microns)')\n",
    "plt.show()"
   ]
  },
  {
   "cell_type": "code",
   "execution_count": 30,
   "metadata": {},
   "outputs": [
    {
     "name": "stdout",
     "output_type": "stream",
     "text": [
      "\n",
      "Growth Rate: 0.2301 sq. µm/hour\n",
      "95% conf int: [0.2266, 0.2337] sq. µm/hour\n",
      "\n",
      "The bacteria add about 0.23 square micrometers worth of mass each hour\n"
     ]
    }
   ],
   "source": [
    "np.random.seed(42)\n",
    "#compute confidence interval of growth rate\n",
    "log_bac_area = np.log(bac_area)\n",
    "\n",
    "#Computing the current growth rate\n",
    "growth_rate, log_intercept = np.polyfit(t, log_bac_area, 1)\n",
    "\n",
    "#computing bootstrap replicates for confidence interval\n",
    "growth_rate_bs_reps, log_intercept_reps = draw_bs_par_linreg(t, log_bac_area, size = 10000)\n",
    "\n",
    "#calculating the confidence interval\n",
    "growth_rate_conf_int = np.percentile(growth_rate_bs_reps, [2.5, 97.5])\n",
    "\n",
    "print('''\n",
    "Growth Rate: {0:.4f} sq. µm/hour\n",
    "95% conf int: [{1:.4f}, {2:.4f}] sq. µm/hour\n",
    "'''.format(growth_rate, *growth_rate_conf_int))\n",
    "\n",
    "print('The bacteria add about 0.23 square micrometers worth of mass each hour')"
   ]
  },
  {
   "cell_type": "markdown",
   "metadata": {},
   "source": [
    "now we will visually see how close the confidence interval is"
   ]
  },
  {
   "cell_type": "code",
   "execution_count": 32,
   "metadata": {},
   "outputs": [
    {
     "data": {
      "image/png": "[encoded data removed]",
      "text/plain": [
       "<Figure size 432x288 with 1 Axes>"
      ]
     },
     "metadata": {
      "needs_background": "light"
     },
     "output_type": "display_data"
    }
   ],
   "source": [
    "_ = plt.semilogy(t, bac_area, linestyle = 'none', marker = '.')\n",
    "#generating x values for the bootstrap sample\n",
    "t_bs = np.array([0,14])\n",
    "#plotting the first 100 bootstrap line\n",
    "for i in range(100):\n",
    "    y = np.exp(growth_rate_bs_reps[i]*t_bs + log_intercept_reps[i])\n",
    "    _ = plt.semilogy(t_bs, y, linewidth = 0.5, alpha = 0.05, color = 'red')\n",
    "    \n",
    "#Label x and y axes\n",
    "_ = plt.xlabel('time (hr)')\n",
    "_ = plt.ylabel('area (sq. µm)')\n",
    "plt.show()"
   ]
  },
  {
   "cell_type": "markdown",
   "metadata": {},
   "source": [
    "from above plot we can see that bootstrap replicate does not deviate much"
   ]
  }
 ],
 "metadata": {
  "kernelspec": {
   "display_name": "Python 3",
   "language": "python",
   "name": "python3"
  },
  "language_info": {
   "codemirror_mode": {
    "name": "ipython",
    "version": 3
   },
   "file_extension": ".py",
   "mimetype": "text/x-python",
   "name": "python",
   "nbconvert_exporter": "python",
   "pygments_lexer": "ipython3",
   "version": "3.6.8"
  }
 },
 "nbformat": 4,
 "nbformat_minor": 2
}
