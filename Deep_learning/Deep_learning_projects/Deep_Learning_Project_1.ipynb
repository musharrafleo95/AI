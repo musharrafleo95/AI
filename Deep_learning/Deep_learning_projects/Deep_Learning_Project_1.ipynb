{
 "cells": [
  {
   "cell_type": "code",
   "execution_count": 1,
   "metadata": {
    "colab": {},
    "colab_type": "code",
    "id": "MYDqmMSWmbi5"
   },
   "outputs": [
    {
     "name": "stderr",
     "output_type": "stream",
     "text": [
      "Using TensorFlow backend.\n"
     ]
    }
   ],
   "source": [
    "import numpy as np\n",
    "import pandas as pd\n",
    "from keras import models\n",
    "from keras import layers\n",
    "from keras.wrappers.scikit_learn import KerasClassifier\n",
    "from sklearn.model_selection import cross_val_score\n",
    "from sklearn.preprocessing import LabelEncoder\n",
    "from sklearn.model_selection import StratifiedKFold\n",
    "from sklearn.preprocessing import StandardScaler\n",
    "from sklearn.pipeline import Pipeline\n"
   ]
  },
  {
   "cell_type": "markdown",
   "metadata": {
    "colab_type": "text",
    "id": "uDB59wjIv3SQ"
   },
   "source": [
    "Next, we can initialize the random number generator to ensure that we always get the same results when executing this code. This will help if we are debugging:"
   ]
  },
  {
   "cell_type": "code",
   "execution_count": 2,
   "metadata": {
    "colab": {},
    "colab_type": "code",
    "id": "5KF0X-L5nGsT"
   },
   "outputs": [],
   "source": [
    "# fix random seed for reproducibility\n",
    "seed = 7\n",
    "np.random.seed(seed)\n"
   ]
  },
  {
   "cell_type": "markdown",
   "metadata": {
    "colab_type": "text",
    "id": "7mNHDEZnv5Mf"
   },
   "source": [
    "Now we can load the dataset using pandas and split the columns into 60 input variables (x) and 1 output variable (y. We use pandas to load the data because it easily handles strings (the output variable), whereas attempting to load the data directly using NumPy would be more difficult."
   ]
  },
  {
   "cell_type": "code",
   "execution_count": 3,
   "metadata": {
    "colab": {},
    "colab_type": "code",
    "id": "KnnWiBlHnMSJ"
   },
   "outputs": [],
   "source": [
    "# load dataset\n",
    "dataframe = pd.read_csv(\"sonar.csv\", header=None)\n",
    "dataset = dataframe.values\n",
    "# split into input (X) and output (Y) variables\n",
    "x = dataset[:,0:60].astype(float)\n",
    "y = dataset[:,60]\n"
   ]
  },
  {
   "cell_type": "markdown",
   "metadata": {
    "colab_type": "text",
    "id": "01ifHd70wDk3"
   },
   "source": [
    "The output variable is string values. We must convert them into integer values 0 and 1.\n",
    "\n",
    "We can do this using the LabelEncoder class from scikit-learn. This class will model the encoding required using the entire dataset via the fit() function, then apply the encoding to create a new output variable using the transform() function.\n",
    "\n",
    "\n"
   ]
  },
  {
   "cell_type": "code",
   "execution_count": 4,
   "metadata": {
    "colab": {
     "base_uri": "https://localhost:8080/",
     "height": 204
    },
    "colab_type": "code",
    "id": "u3JWACWVnYEy",
    "outputId": "f9e154dc-1693-4f0f-b775-bcde60055af5"
   },
   "outputs": [
    {
     "name": "stdout",
     "output_type": "stream",
     "text": [
      "['M' 'R']\n"
     ]
    },
    {
     "data": {
      "text/plain": [
       "array([1, 1, 1, 1, 1, 1, 1, 1, 1, 1, 1, 1, 1, 1, 1, 1, 1, 1, 1, 1, 1, 1,\n",
       "       1, 1, 1, 1, 1, 1, 1, 1, 1, 1, 1, 1, 1, 1, 1, 1, 1, 1, 1, 1, 1, 1,\n",
       "       1, 1, 1, 1, 1, 1, 1, 1, 1, 1, 1, 1, 1, 1, 1, 1, 1, 1, 1, 1, 1, 1,\n",
       "       1, 1, 1, 1, 1, 1, 1, 1, 1, 1, 1, 1, 1, 1, 1, 1, 1, 1, 1, 1, 1, 1,\n",
       "       1, 1, 1, 1, 1, 1, 1, 1, 1, 0, 0, 0, 0, 0, 0, 0, 0, 0, 0, 0, 0, 0,\n",
       "       0, 0, 0, 0, 0, 0, 0, 0, 0, 0, 0, 0, 0, 0, 0, 0, 0, 0, 0, 0, 0, 0,\n",
       "       0, 0, 0, 0, 0, 0, 0, 0, 0, 0, 0, 0, 0, 0, 0, 0, 0, 0, 0, 0, 0, 0,\n",
       "       0, 0, 0, 0, 0, 0, 0, 0, 0, 0, 0, 0, 0, 0, 0, 0, 0, 0, 0, 0, 0, 0,\n",
       "       0, 0, 0, 0, 0, 0, 0, 0, 0, 0, 0, 0, 0, 0, 0, 0, 0, 0, 0, 0, 0, 0,\n",
       "       0, 0, 0, 0, 0, 0, 0, 0, 0, 0])"
      ]
     },
     "execution_count": 4,
     "metadata": {},
     "output_type": "execute_result"
    }
   ],
   "source": [
    "#converting label to numbers\n",
    "from sklearn import preprocessing\n",
    "le = preprocessing.LabelEncoder()\n",
    "le.fit(np.unique(y))\n",
    "print(le.classes_)\n",
    "y_encoded = le.transform(y)\n",
    "y_encoded"
   ]
  },
  {
   "cell_type": "markdown",
   "metadata": {
    "colab_type": "text",
    "id": "CzXi4UKEwN5O"
   },
   "source": [
    "We can use scikit-learn to evaluate the model using stratified k-fold cross validation. This is a resampling technique that will provide an estimate of the performance of the model. It does this by splitting the data into k-parts, training the model on all parts except one which is held out as a test set to evaluate the performance of the model. This process is repeated k-times and the average score across all constructed models is used as a robust estimate of performance. It is stratified, meaning that it will look at the output values and attempt to balance the number of instances that belong to each class in the k-splits of the data.\n",
    "\n",
    "To use Keras models with scikit-learn, we must use the KerasClassifier wrapper. This class takes a function that creates and returns our neural network model. It also takes arguments that it will pass along to the call to fit() such as the number of epochs and the batch size.\n",
    "\n",
    "Let’s start off by defining the function that creates our baseline model. Our model will have a single fully connected hidden layer with the same number of neurons as input variables. This is a good default starting point when creating neural networks.\n",
    "\n",
    "The weights are initialized using a small Gaussian random number. The Rectifier activation function is used. The output layer contains a single neuron in order to make predictions. It uses the sigmoid activation function in order to produce a probability output in the range of 0 to 1 that can easily and automatically be converted to crisp class values.\n",
    "\n",
    "Finally, we are using the logarithmic loss function (binary_crossentropy) during training, the preferred loss function for binary classification problems. The model also uses the efficient Adam optimization algorithm for gradient descent and accuracy metrics will be collected when the model is trained."
   ]
  },
  {
   "cell_type": "code",
   "execution_count": 56,
   "metadata": {
    "colab": {},
    "colab_type": "code",
    "id": "WkWn76xRo5yh"
   },
   "outputs": [],
   "source": [
    "# baseline model\n",
    "def create_baseline():\n",
    "  model = models.Sequential()\n",
    "  model.add(layers.Dense(60,activation = 'relu',input_shape =(x[1].shape))) #input shape need to be vector so here its (60, )\n",
    "  model.add(layers.Dense(1, activation = 'sigmoid'))\n",
    "  model.compile(optimizer = 'adam',loss = 'binary_crossentropy',metrics=['accuracy'] )\n",
    "  return model\n"
   ]
  },
  {
   "cell_type": "markdown",
   "metadata": {
    "colab_type": "text",
    "id": "89pPOj4cwTIu"
   },
   "source": [
    "Now it is time to evaluate this model using stratified cross validation in the scikit-learn framework.\n",
    "\n",
    "We pass the number of training epochs to the KerasClassifier, again using reasonable default values. Verbose output is also turned off given that the model will be created 10 times for the 10-fold cross validation being performed.\n"
   ]
  },
  {
   "cell_type": "code",
   "execution_count": 11,
   "metadata": {
    "colab": {
     "base_uri": "https://localhost:8080/",
     "height": 34
    },
    "colab_type": "code",
    "id": "7s0vccIpr13w",
    "outputId": "fde2f6c0-3275-4df6-c3c7-27c4541b791f"
   },
   "outputs": [
    {
     "name": "stdout",
     "output_type": "stream",
     "text": [
      "Results: 83.71% (6.13%)\n"
     ]
    }
   ],
   "source": [
    "# evaluate model with standardized dataset\n",
    "estimator = KerasClassifier(build_fn=create_baseline, epochs=100, batch_size=5, verbose=0)\n",
    "kfold = StratifiedKFold(n_splits=10, shuffle=True, random_state=seed)\n",
    "results = cross_val_score(estimator, x, y_encoded, cv=kfold)\n",
    "print(\"Results: %.2f%% (%.2f%%)\" % (results.mean()*100, results.std()*100))\n"
   ]
  },
  {
   "cell_type": "markdown",
   "metadata": {
    "colab_type": "text",
    "id": "iKrOC-uDwcX0"
   },
   "source": [
    "# Step 3. Re-Run The Baseline Model With Data Preparation\n",
    "It is a good practice to prepare your data before modeling.\n",
    "\n",
    "Neural network models are especially suitable to having consistent input values, both in scale and distribution.\n",
    "\n",
    "An effective data preparation scheme for tabular data when building neural network models is standardization. This is where the data is rescaled such that the mean value for each attribute is 0 and the standard deviation is 1. This preserves Gaussian and Gaussian-like distributions whilst normalizing the central tendencies for each attribute.\n",
    "\n",
    "We can use scikit-learn to perform the standardization of our Sonar dataset using the StandardScaler class:\n",
    "http://scikit-learn.org/stable/modules/generated/sklearn.preprocessing.StandardScaler.html \n",
    "\n",
    "Rather than performing the standardization on the entire dataset, it is good practice to train the standardization procedure on the training data within the pass of a cross-validation run and to use the trained standardization to prepare the “unseen” test fold. This makes standardization a step in model preparation in the cross-validation process and it prevents the algorithm having knowledge of “unseen” data during evaluation, knowledge that might be passed from the data preparation scheme like a crisper distribution.\n",
    "\n",
    "We can achieve this in scikit-learn using a Pipeline:\n",
    "http://scikit-learn.org/stable/modules/generated/sklearn.pipeline.Pipeline.html \n",
    "\n",
    "The pipeline is a wrapper that executes one or more models within a pass of the cross-validation procedure. Here, we can define a pipeline with the StandardScaler followed by our neural network model.\n",
    "\n"
   ]
  },
  {
   "cell_type": "code",
   "execution_count": 12,
   "metadata": {
    "colab": {
     "base_uri": "https://localhost:8080/",
     "height": 34
    },
    "colab_type": "code",
    "id": "zXWfZEtEsqHo",
    "outputId": "07460b63-b0f2-49d6-b422-bd1955d37d1b"
   },
   "outputs": [
    {
     "name": "stdout",
     "output_type": "stream",
     "text": [
      "Standardized: 85.59% (7.46%)\n"
     ]
    }
   ],
   "source": [
    "# evaluate baseline model with standardized dataset\n",
    "np.random.seed(seed)\n",
    "estimators = []\n",
    "estimators.append(('standardize', StandardScaler()))\n",
    "estimators.append(('mlp', KerasClassifier(build_fn=create_baseline, epochs=100, batch_size=5, verbose=0)))\n",
    "pipeline = Pipeline(estimators)\n",
    "kfold = StratifiedKFold(n_splits=10, shuffle=True, random_state=seed)\n",
    "results = cross_val_score(pipeline, x, y_encoded, cv=kfold)\n",
    "print(\"Standardized: %.2f%% (%.2f%%)\" % (results.mean()*100, results.std()*100))\n"
   ]
  },
  {
   "cell_type": "markdown",
   "metadata": {
    "colab_type": "text",
    "id": "Hw3uS1zTwicQ"
   },
   "source": [
    "# Step 4. Tuning Layers and Number of Neurons in The Model\n",
    "There are many things to tune on a neural network, such as the weight initialization, activation functions, optimization procedure and so on.\n",
    "\n",
    "One aspect that may have an outsized effect is the structure of the network itself called the network topology. In this section, we take a look at two experiments on the structure of the network: making it smaller and making it larger.\n",
    "\n",
    "These are good experiments to perform when tuning a neural network on your problem.\n",
    "\n",
    "\n",
    "## 4.1. Evaluate a Smaller Network\n",
    "We suspect that there is a lot of redundancy in the input variables for this project.\n",
    "\n",
    "The data describes the same signal from different angles. Perhaps some of those angles are more relevant than others. We can force a type of feature extraction by the network by restricting the representational space in the first hidden layer.\n",
    "\n",
    "In this experiment, we take our baseline model with 60 neurons in the hidden layer and reduce it by half to 30. This will put pressure on the network during training to pick out the most important structure in the input data to model.\n",
    "\n",
    "We will also standardize the data as in the previous experiment with data preparation and try to take advantage of the small lift in performance.\n"
   ]
  },
  {
   "cell_type": "code",
   "execution_count": 13,
   "metadata": {
    "colab": {
     "base_uri": "https://localhost:8080/",
     "height": 34
    },
    "colab_type": "code",
    "id": "PCi0Vz8_txfw",
    "outputId": "a34bcbea-e2f0-4d6a-974f-4f002a678c1e"
   },
   "outputs": [
    {
     "name": "stdout",
     "output_type": "stream",
     "text": [
      "Smaller: 83.52% (8.42%)\n"
     ]
    }
   ],
   "source": [
    "# smaller model\n",
    "np.random.seed(seed)\n",
    "def create_smaller():\n",
    "  model = models.Sequential()\n",
    "  model.add(layers.Dense(30,activation = 'relu',input_shape =(x[1].shape)))\n",
    "  model.add(layers.Dense(1, activation = 'sigmoid'))\n",
    "  model.compile(optimizer = 'adam',loss = 'binary_crossentropy',metrics=['accuracy'] )\n",
    "  return model\n",
    "  \t\n",
    "estimators = []\n",
    "estimators.append(('standardize', StandardScaler()))\n",
    "estimators.append(('mlp', KerasClassifier(build_fn=create_smaller, epochs=20, batch_size=5, verbose=0)))\n",
    "pipeline = Pipeline(estimators)\n",
    "kfold = StratifiedKFold(n_splits=10, shuffle=True, random_state=seed)\n",
    "results = cross_val_score(pipeline, x, y_encoded, cv=kfold)\n",
    "print(\"Smaller: %.2f%% (%.2f%%)\" % (results.mean()*100, results.std()*100))\n"
   ]
  },
  {
   "cell_type": "markdown",
   "metadata": {
    "colab_type": "text",
    "id": "n3bos1pUwqes"
   },
   "source": [
    "## Step 4.2. Evaluate a Larger Network\n",
    "A neural network topology with more layers offers more opportunity for the network to extract key features and recombine them in useful nonlinear ways.\n",
    "\n",
    "We can evaluate whether adding more layers to the network improves the performance easily by making another small tweak to the function used to create our model. Here, we add one new layer (one line) to the network that introduces another hidden layer with 30 neurons after the first hidden layer.\n",
    "\n",
    "Our network now has the topology:\n",
    "\n",
    "60 inputs -> [60 -> 30] -> 1 output\n",
    "\n",
    "The idea here is that the network is given the opportunity to model all input variables before being bottlenecked and forced to halve the representational capacity, much like we did in the experiment above with the smaller network.\n",
    "\n",
    "Instead of squeezing the representation of the inputs themselves, we have an additional hidden layer to aid in the process.\n"
   ]
  },
  {
   "cell_type": "code",
   "execution_count": 14,
   "metadata": {
    "colab": {
     "base_uri": "https://localhost:8080/",
     "height": 34
    },
    "colab_type": "code",
    "id": "ne1pAUgruv0g",
    "outputId": "f0c4c5ae-a670-45fd-8e38-e28bfe6927d5"
   },
   "outputs": [
    {
     "name": "stdout",
     "output_type": "stream",
     "text": [
      "Larger: 84.61% (6.36%)\n"
     ]
    }
   ],
   "source": [
    "# larger model\n",
    "np.random.seed(seed)\n",
    "\n",
    "def create_larger():\n",
    "  model = models.Sequential()\n",
    "  model.add(layers.Dense(60,activation = 'relu',input_shape =(x[1].shape)))\n",
    "  model.add(layers.Dense(30,activation = 'relu'))\n",
    "  model.add(layers.Dense(1, activation = 'sigmoid'))\n",
    "  model.compile(optimizer = 'adam',loss = 'binary_crossentropy',metrics=['accuracy'] )\n",
    "  return model\n",
    "\n",
    "estimators = []\n",
    "estimators.append(('standardize', StandardScaler()))\n",
    "estimators.append(('mlp', KerasClassifier(build_fn=create_larger, epochs=100, batch_size=5, verbose=0)))\n",
    "pipeline = Pipeline(estimators)\n",
    "kfold = StratifiedKFold(n_splits=10, shuffle=True, random_state=seed)\n",
    "results = cross_val_score(pipeline, x, y_encoded, cv=kfold)\n",
    "print(\"Larger: %.2f%% (%.2f%%)\" % (results.mean()*100, results.std()*100))\n"
   ]
  },
  {
   "cell_type": "markdown",
   "metadata": {
    "colab_type": "text",
    "id": "9ubioDHKw5-f"
   },
   "source": [
    "# Step 5: Really Scaling up: \n",
    "developing a model that overfits\n",
    "Once you’ve obtained a model that has statistical power, the question becomes, is your\n",
    "model sufficiently powerful? Does it have enough layers and parameters to properly\n",
    "model the problem at hand? \n",
    "\n",
    "Remember that the universal tension in machine learning is between optimization and generalization; the ideal model is one that stands right at the border between underfitting and overfitting; between undercapacity and overcapacity. To figure out where this border lies, first you must cross it.\n",
    "\n",
    "To figure out how big a model you’ll need, you must develop a model that overfits.\n",
    "This is fairly easy:\n",
    "1.\tAdd layers.\n",
    "2.\tMake the layers bigger.\n",
    "3.\tTrain for more epochs.\n",
    "\n",
    "Always monitor the training loss and validation loss, as well as the training and validation values for any metrics you care about. When you see that the model’s performance on the validation data begins to degrade, you’ve achieved overfitting.\n"
   ]
  },
  {
   "cell_type": "code",
   "execution_count": 8,
   "metadata": {
    "colab": {
     "base_uri": "https://localhost:8080/",
     "height": 34
    },
    "colab_type": "code",
    "id": "sAyYV25UxJZm",
    "outputId": "acc4948d-609c-48a0-a1f3-65c1d68c4794"
   },
   "outputs": [
    {
     "name": "stdout",
     "output_type": "stream",
     "text": [
      "Larger: 87.47% (6.58%)\n"
     ]
    }
   ],
   "source": [
    "seed = 7\n",
    "np.random.seed(seed)\n",
    "\n",
    "def create_larger():\n",
    "  model = models.Sequential()\n",
    "  model.add(layers.Dense(100,activation = 'relu',input_shape =(x[1].shape)))\n",
    "  model.add(layers.Dense(50,activation = 'relu'))\n",
    "  model.add(layers.Dense(25,activation = 'relu'))\n",
    "  model.add(layers.Dense(6, activation = 'relu',))\n",
    "  model.add(layers.Dense(1, activation = 'sigmoid'))\n",
    "  model.compile(optimizer = 'adam',loss = 'binary_crossentropy',metrics=['accuracy'] )\n",
    "  return model\n",
    "estimators = []\n",
    "estimators.append(('standardize', StandardScaler()))\n",
    "estimators.append(('mlp', KerasClassifier(build_fn=create_larger, epochs=150, batch_size=5, verbose=0)))\n",
    "pipeline = Pipeline(estimators)\n",
    "kfold = StratifiedKFold(n_splits=10, shuffle=True, random_state=seed)\n",
    "results = cross_val_score(pipeline, x, y_encoded, cv=kfold)\n",
    "print(\"Larger: %.2f%% (%.2f%%)\" % (results.mean()*100, results.std()*100))"
   ]
  },
  {
   "cell_type": "code",
   "execution_count": 17,
   "metadata": {},
   "outputs": [
    {
     "name": "stdout",
     "output_type": "stream",
     "text": [
      "Larger: 87.38% (8.12%)\n"
     ]
    }
   ],
   "source": [
    "# with 200 epochs\n",
    "np.random.seed(seed)\n",
    "\n",
    "def create_larger_1():\n",
    "  model = models.Sequential()\n",
    "  model.add(layers.Dense(100,activation = 'relu',input_shape =(x[1].shape)))\n",
    "  model.add(layers.Dense(50,activation = 'relu'))\n",
    "  model.add(layers.Dense(25,activation = 'relu'))\n",
    "  model.add(layers.Dense(6, activation = 'relu',))\n",
    "  model.add(layers.Dense(1, activation = 'sigmoid'))\n",
    "  model.compile(optimizer = 'adam',loss = 'binary_crossentropy',metrics=['accuracy'] )\n",
    "  return model\n",
    "estimators = []\n",
    "estimators.append(('standardize', StandardScaler()))\n",
    "estimators.append(('mlp', KerasClassifier(build_fn=create_larger_1, epochs=200, batch_size=5, verbose=0)))\n",
    "pipeline = Pipeline(estimators)\n",
    "kfold = StratifiedKFold(n_splits=10, shuffle=True, random_state=seed)\n",
    "results = cross_val_score(pipeline, x, y_encoded, cv=kfold)\n",
    "print(\"Larger: %.2f%% (%.2f%%)\" % (results.mean()*100, results.std()*100))"
   ]
  },
  {
   "cell_type": "markdown",
   "metadata": {},
   "source": [
    "Since the performance has started to decrease so we will use the model with 87.95%"
   ]
  },
  {
   "cell_type": "markdown",
   "metadata": {
    "colab_type": "text",
    "id": "MHm0XbrFw7Ba"
   },
   "source": [
    "The next step is to start regularizing and tuning the model, to get as close as possible to the ideal model that neither underfits nor overfits.\n",
    "\n",
    "# Step 6: Tuning the Model\n",
    "With further tuning of aspects like the optimization algorithm etc. and the number of training epochs, it is expected that further improvements are possible. What is the best score that you can achieve on this dataset?\n"
   ]
  },
  {
   "cell_type": "code",
   "execution_count": 18,
   "metadata": {
    "colab": {
     "base_uri": "https://localhost:8080/",
     "height": 231
    },
    "colab_type": "code",
    "id": "dwcGzD3-FM7M",
    "outputId": "583bf159-a897-4b2c-9f76-050949c65253"
   },
   "outputs": [
    {
     "name": "stdout",
     "output_type": "stream",
     "text": [
      "Larger: 87.47% (5.85%)\n"
     ]
    }
   ],
   "source": [
    "# with rmsprop optimizer\n",
    "np.random.seed(seed)\n",
    "\n",
    "def model_v1():\n",
    "  model = models.Sequential()\n",
    "  model.add(layers.Dense(100,activation = 'relu',input_shape =(x[1].shape)))\n",
    "  model.add(layers.Dense(50,activation = 'relu'))\n",
    "  model.add(layers.Dense(25,activation = 'relu'))\n",
    "  model.add(layers.Dense(6, activation = 'relu',))\n",
    "  model.add(layers.Dense(1, activation = 'sigmoid'))\n",
    "  model.compile(optimizer = 'rmsprop',loss = 'binary_crossentropy',metrics=['accuracy'] )\n",
    "  return model\n",
    "estimators = []\n",
    "estimators.append(('standardize', StandardScaler()))\n",
    "estimators.append(('mlp', KerasClassifier(build_fn=model_v1, epochs=150, batch_size=5, verbose=0)))\n",
    "pipeline = Pipeline(estimators)\n",
    "kfold = StratifiedKFold(n_splits=10, shuffle=True, random_state=seed)\n",
    "results = cross_val_score(pipeline, x, y_encoded, cv=kfold)\n",
    "print(\"Larger: %.2f%% (%.2f%%)\" % (results.mean()*100, results.std()*100))"
   ]
  },
  {
   "cell_type": "code",
   "execution_count": 19,
   "metadata": {
    "colab": {
     "base_uri": "https://localhost:8080/",
     "height": 231
    },
    "colab_type": "code",
    "id": "nu_agqOF00al",
    "outputId": "80fe6ed6-5e53-4a02-f2d9-210bae1c091c"
   },
   "outputs": [
    {
     "name": "stdout",
     "output_type": "stream",
     "text": [
      "Larger: 84.07% (5.45%)\n",
      "Larger: 84.07% (5.45%)\n"
     ]
    }
   ],
   "source": [
    "# with adam optimizer and wieght dropout of 20%\n",
    "np.random.seed(seed)\n",
    "\n",
    "def model_v2():\n",
    "  model = models.Sequential()\n",
    "  model.add(layers.Dense(100,activation = 'relu',input_shape =(x[1].shape)))\n",
    "  model.add(layers.Dropout(0.20))\n",
    "  model.add(layers.Dense(50,activation = 'relu'))\n",
    "  model.add(layers.Dropout(0.20))\n",
    "  model.add(layers.Dense(25,activation = 'relu'))\n",
    "  model.add(layers.Dropout(0.20))\n",
    "  model.add(layers.Dense(6, activation = 'relu',))\n",
    "  model.add(layers.Dropout(0.20))\n",
    "  model.add(layers.Dense(1, activation = 'sigmoid'))\n",
    "  model.compile(optimizer = 'adam',loss = 'binary_crossentropy',metrics=['accuracy'] )\n",
    "  return model\n",
    "estimators = []\n",
    "estimators.append(('standardize', StandardScaler()))\n",
    "estimators.append(('mlp', KerasClassifier(build_fn=model_v2, epochs=150, batch_size=5, verbose=0)))\n",
    "pipeline = Pipeline(estimators)\n",
    "kfold = StratifiedKFold(n_splits=10, shuffle=True, random_state=seed)\n",
    "results = cross_val_score(pipeline, x, y_encoded, cv=kfold)\n",
    "print(\"Larger: %.2f%% (%.2f%%)\" % (results.mean()*100, results.std()*100))"
   ]
  },
  {
   "cell_type": "code",
   "execution_count": 20,
   "metadata": {
    "colab": {},
    "colab_type": "code",
    "id": "8fB8xoQ_swtR"
   },
   "outputs": [
    {
     "name": "stdout",
     "output_type": "stream",
     "text": [
      "Larger: 82.18% (8.12%)\n"
     ]
    }
   ],
   "source": [
    "# with adam optimizer and wieght dropout of 50%\n",
    "np.random.seed(seed)\n",
    "\n",
    "def model_v3():\n",
    "  model = models.Sequential()\n",
    "  model.add(layers.Dense(100,activation = 'relu',input_shape =(x[1].shape)))\n",
    "  model.add(layers.Dropout(0.50))\n",
    "  model.add(layers.Dense(50,activation = 'relu'))\n",
    "  model.add(layers.Dropout(0.50))\n",
    "  model.add(layers.Dense(25,activation = 'relu'))\n",
    "  model.add(layers.Dropout(0.50))\n",
    "  model.add(layers.Dense(6, activation = 'relu',))\n",
    "  model.add(layers.Dropout(0.50))\n",
    "  model.add(layers.Dense(1, activation = 'sigmoid'))\n",
    "  model.compile(optimizer = 'adam',loss = 'binary_crossentropy',metrics=['accuracy'] )\n",
    "  return model\n",
    "estimators = []\n",
    "estimators.append(('standardize', StandardScaler()))\n",
    "estimators.append(('mlp', KerasClassifier(build_fn=model_v3, epochs=150, batch_size=5, verbose=0)))\n",
    "pipeline = Pipeline(estimators)\n",
    "kfold = StratifiedKFold(n_splits=10, shuffle=True, random_state=seed)\n",
    "results = cross_val_score(pipeline, x, y_encoded, cv=kfold)\n",
    "print(\"Larger: %.2f%% (%.2f%%)\" % (results.mean()*100, results.std()*100))"
   ]
  },
  {
   "cell_type": "markdown",
   "metadata": {},
   "source": [
    "So dropping weights do not produce good results lets try weight regularization"
   ]
  },
  {
   "cell_type": "code",
   "execution_count": 22,
   "metadata": {
    "colab": {},
    "colab_type": "code",
    "id": "QmLFaFIXOQDQ"
   },
   "outputs": [
    {
     "name": "stdout",
     "output_type": "stream",
     "text": [
      "Larger: 85.99% (6.44%)\n"
     ]
    }
   ],
   "source": [
    "# with L2 weight regularizer \n",
    "from keras import regularizers\n",
    "np.random.seed(seed)\n",
    "\n",
    "def model_v4():\n",
    "  model = models.Sequential()\n",
    "  model.add(layers.Dense(100,activation = 'relu',kernel_regularizer = regularizers.l2(0.001),input_shape =(x[1].shape)))\n",
    "  model.add(layers.Dense(50,activation = 'relu',kernel_regularizer = regularizers.l2(0.001)))\n",
    "  model.add(layers.Dense(25,activation = 'relu',kernel_regularizer = regularizers.l2(0.001)))\n",
    "  model.add(layers.Dense(6, activation = 'relu',kernel_regularizer = regularizers.l2(0.001)))\n",
    "  model.add(layers.Dense(1, activation = 'sigmoid'))\n",
    "  model.compile(optimizer = 'adam',loss = 'binary_crossentropy',metrics=['accuracy'] )\n",
    "  return model\n",
    "estimators = []\n",
    "estimators.append(('standardize', StandardScaler()))\n",
    "estimators.append(('mlp', KerasClassifier(build_fn=model_v4, epochs=150, batch_size=5, verbose=0)))\n",
    "pipeline = Pipeline(estimators)\n",
    "kfold = StratifiedKFold(n_splits=10, shuffle=True, random_state=seed)\n",
    "results = cross_val_score(pipeline, x, y_encoded, cv=kfold)\n",
    "print(\"Larger: %.2f%% (%.2f%%)\" % (results.mean()*100, results.std()*100))"
   ]
  },
  {
   "cell_type": "code",
   "execution_count": 23,
   "metadata": {
    "colab": {},
    "colab_type": "code",
    "id": "NSFLokNZQs1E"
   },
   "outputs": [
    {
     "name": "stdout",
     "output_type": "stream",
     "text": [
      "Larger: 83.16% (5.80%)\n"
     ]
    }
   ],
   "source": [
    "# with L1 weight regularizer \n",
    "from keras import regularizers\n",
    "np.random.seed(seed)\n",
    "\n",
    "def model_v5():\n",
    "  model = models.Sequential()\n",
    "  model.add(layers.Dense(100,activation = 'relu',kernel_regularizer = regularizers.l1(0.001),input_shape =(x[1].shape)))\n",
    "  model.add(layers.Dense(50,activation = 'relu',kernel_regularizer = regularizers.l1(0.001)))\n",
    "  model.add(layers.Dense(25,activation = 'relu',kernel_regularizer = regularizers.l1(0.001)))\n",
    "  model.add(layers.Dense(6, activation = 'relu',kernel_regularizer = regularizers.l1(0.001)))\n",
    "  model.add(layers.Dense(1, activation = 'sigmoid'))\n",
    "  model.compile(optimizer = 'adam',loss = 'binary_crossentropy',metrics=['accuracy'] )\n",
    "  return model\n",
    "estimators = []\n",
    "estimators.append(('standardize', StandardScaler()))\n",
    "estimators.append(('mlp', KerasClassifier(build_fn=model_v5, epochs=150, batch_size=5, verbose=0)))\n",
    "pipeline = Pipeline(estimators)\n",
    "kfold = StratifiedKFold(n_splits=10, shuffle=True, random_state=seed)\n",
    "results = cross_val_score(pipeline, x, y_encoded, cv=kfold)\n",
    "print(\"Larger: %.2f%% (%.2f%%)\" % (results.mean()*100, results.std()*100))"
   ]
  },
  {
   "cell_type": "markdown",
   "metadata": {},
   "source": [
    "Using weight regularizers also do not produce good results"
   ]
  },
  {
   "cell_type": "code",
   "execution_count": 6,
   "metadata": {
    "colab": {},
    "colab_type": "code",
    "id": "2fDhZ9EYNbnh"
   },
   "outputs": [
    {
     "name": "stdout",
     "output_type": "stream",
     "text": [
      "Larger: 87.45% (5.03%)\n"
     ]
    }
   ],
   "source": [
    "# changing batch size to 1\n",
    "\n",
    "np.random.seed(seed)\n",
    "\n",
    "def model_v6():\n",
    "  model = models.Sequential()\n",
    "  model.add(layers.Dense(100,activation = 'relu',input_shape =(x[1].shape)))\n",
    "  model.add(layers.Dense(50,activation = 'relu'))\n",
    "  model.add(layers.Dense(25,activation = 'relu',))\n",
    "  model.add(layers.Dense(6, activation = 'relu'))\n",
    "  model.add(layers.Dense(1, activation = 'sigmoid'))\n",
    "  model.compile(optimizer = 'adam',loss = 'binary_crossentropy',metrics=['accuracy'] )\n",
    "  return model\n",
    "estimators = []\n",
    "estimators.append(('standardize', StandardScaler()))\n",
    "estimators.append(('mlp', KerasClassifier(build_fn=model_v6, epochs=150, batch_size=1, verbose=0)))\n",
    "pipeline = Pipeline(estimators)\n",
    "kfold = StratifiedKFold(n_splits=10, shuffle=True, random_state=seed)\n",
    "results = cross_val_score(pipeline, x, y_encoded, cv=kfold)\n",
    "print(\"Larger: %.2f%% (%.2f%%)\" % (results.mean()*100, results.std()*100))"
   ]
  },
  {
   "cell_type": "code",
   "execution_count": 7,
   "metadata": {},
   "outputs": [
    {
     "name": "stdout",
     "output_type": "stream",
     "text": [
      "Larger: 88.90% (6.56%)\n"
     ]
    }
   ],
   "source": [
    "# Using the previous model\n",
    "seed = 7\n",
    "np.random.seed(seed)\n",
    "\n",
    "def create_larger():\n",
    "  model = models.Sequential()\n",
    "  model.add(layers.Dense(100,activation = 'relu',input_shape =(x[1].shape)))\n",
    "  model.add(layers.Dense(50,activation = 'relu'))\n",
    "  model.add(layers.Dense(25,activation = 'relu'))\n",
    "  model.add(layers.Dense(6, activation = 'relu',))\n",
    "  model.add(layers.Dense(1, activation = 'sigmoid'))\n",
    "  model.compile(optimizer = 'adam',loss = 'binary_crossentropy',metrics=['accuracy'] )\n",
    "  return model\n",
    "estimators = []\n",
    "estimators.append(('standardize', StandardScaler()))\n",
    "estimators.append(('mlp', KerasClassifier(build_fn=create_larger, epochs=150, batch_size=5, verbose=0)))\n",
    "pipeline = Pipeline(estimators)\n",
    "kfold = StratifiedKFold(n_splits=10, shuffle=True, random_state=seed)\n",
    "results = cross_val_score(pipeline, x, y_encoded, cv=kfold)\n",
    "print(\"Larger: %.2f%% (%.2f%%)\" % (results.mean()*100, results.std()*100))"
   ]
  },
  {
   "cell_type": "markdown",
   "metadata": {
    "colab_type": "text",
    "id": "2GUZwAOJw9x3"
   },
   "source": [
    "# Step 7: Rewriting the code using the Keras Functional API\n",
    "Review the April 9, 2018 presentation done by Chollet contained in the project file: \n",
    "\n",
    "Francois_Chollet_March9.pdf\n",
    "\n",
    "Now rewrite the code that you have written so far using the Keras Sequential API in Kearas Functional API.\n"
   ]
  },
  {
   "cell_type": "code",
   "execution_count": 10,
   "metadata": {
    "colab": {},
    "colab_type": "code",
    "id": "eGLFHTR_F1rv"
   },
   "outputs": [
    {
     "name": "stdout",
     "output_type": "stream",
     "text": [
      "Larger: 88.42% (6.60%)\n"
     ]
    }
   ],
   "source": [
    "import keras\n",
    "\n",
    "seed = 7\n",
    "np.random.seed(seed)\n",
    "def create_model():\n",
    "  \n",
    "  inputs = keras.Input(shape=x[1].shape)\n",
    "  x_1 = layers.Dense(100, activation = 'relu')(inputs)\n",
    "  x_2 = layers.Dense(50, activation = 'relu')(x_1)\n",
    "  x_3 = layers.Dense(25, activation = 'relu')(x_2)\n",
    "  x_4 = layers.Dense(6, activation = 'relu')(x_3)\n",
    "  outputs = layers.Dense(1, activation='sigmoid')(x_4)\n",
    "  model = keras.Model(inputs, outputs)\n",
    "  model.compile(optimizer = 'adam',loss = 'binary_crossentropy',metrics=['accuracy'] )\n",
    "  return model\n",
    "\n",
    "\n",
    "estimators = []\n",
    "estimators.append(('standardize', StandardScaler()))\n",
    "estimators.append(('mlp', KerasClassifier(build_fn=create_model, epochs=150, batch_size=5, verbose=0)))\n",
    "pipeline = Pipeline(estimators)\n",
    "kfold = StratifiedKFold(n_splits=10, shuffle=True, random_state=seed)\n",
    "results = cross_val_score(pipeline, x, y_encoded, cv=kfold)\n",
    "print(\"Larger: %.2f%% (%.2f%%)\" % (results.mean()*100, results.std()*100))"
   ]
  },
  {
   "cell_type": "markdown",
   "metadata": {
    "colab_type": "text",
    "id": "ICNPjp8bw_rf"
   },
   "source": [
    "# Step 8: Rewriting the code by doing Model Subclassing\n",
    "Now rewrite the code that you have written so far using the Keras Model Subclassing as mentioned in the Chollet April 9, 2018 presentation.\n",
    "\n",
    "Reference:\n",
    "https://www.tensorflow.org/api_docs/python/tf/keras/Model\n",
    "Please note you will have to use TensorFlow 1.7+ with built-in Keras. \n"
   ]
  },
  {
   "cell_type": "code",
   "execution_count": 11,
   "metadata": {
    "colab": {},
    "colab_type": "code",
    "id": "OqNlABaTL6dQ"
   },
   "outputs": [
    {
     "name": "stdout",
     "output_type": "stream",
     "text": [
      "Larger: 87.92% (6.95%)\n"
     ]
    }
   ],
   "source": [
    "seed = 7\n",
    "np.random.seed(seed)\n",
    "class MyModel(keras.Model):\n",
    "  def __init__(self):\n",
    "    super(MyModel, self).__init__()\n",
    "    self.dense1 = layers.Dense(100, activation = 'relu')\n",
    "    \n",
    "    self.dense2 = layers.Dense(50, activation = 'relu')\n",
    "    self.dense3 = layers.Dense(25, activation = 'relu')\n",
    "    self.dense4 = layers.Dense(6, activation = 'relu')\n",
    "    self.dense5 = layers.Dense(1, activation = 'sigmoid')\n",
    "    \n",
    "  def call(self, inputs):\n",
    "    x_1 = self.dense1(inputs)\n",
    "    x_2 = self.dense2(x_1)\n",
    "    x_3 = self.dense3(x_2)\n",
    "    x_4 = self.dense4(x_3)\n",
    "    return self.dense5(x_4)\n",
    "  \n",
    "def create_model():\n",
    "  model = MyModel()\n",
    "  model.compile(optimizer = 'adam',loss = 'binary_crossentropy',metrics=['accuracy'] )\n",
    "  return model\n",
    "\n",
    "estimators = []\n",
    "estimators.append(('standardize', StandardScaler()))\n",
    "estimators.append(('mlp', KerasClassifier(build_fn=create_model, epochs=150, batch_size=5, verbose=0)))\n",
    "pipeline = Pipeline(estimators)\n",
    "kfold = StratifiedKFold(n_splits=10, shuffle=True, random_state=seed)\n",
    "results = cross_val_score(pipeline, x, y_encoded, cv=kfold)\n",
    "print(\"Larger: %.2f%% (%.2f%%)\" % (results.mean()*100, results.std()*100))\n",
    "    "
   ]
  },
  {
   "cell_type": "markdown",
   "metadata": {},
   "source": [
    "------------------------------------------------------------------------------------------"
   ]
  },
  {
   "cell_type": "markdown",
   "metadata": {
    "colab_type": "text",
    "id": "JFgXHhimxCQH"
   },
   "source": [
    "# Step 9: Rewriting the code without using scikit-learn\n",
    "Once you have written the model in all three API style you are required to do k-fold cross validation without using scikit-learn library.\n"
   ]
  },
  {
   "cell_type": "code",
   "execution_count": 15,
   "metadata": {
    "colab": {},
    "colab_type": "code",
    "id": "0gH6sK5kQnyY"
   },
   "outputs": [],
   "source": [
    "np.random.seed(seed)\n",
    "dataset = dataframe.values\n",
    "np.random.shuffle(dataset)\n",
    "# split into input (X) and output (Y) variables\n",
    "x = dataset[:,0:60].astype(float)\n",
    "y = dataset[:,60]\n",
    "\n"
   ]
  },
  {
   "cell_type": "code",
   "execution_count": 16,
   "metadata": {},
   "outputs": [
    {
     "data": {
      "text/plain": [
       "array([1, 0, 0, 0, 0, 1, 0, 1, 1, 1, 0, 0, 0, 0, 1, 1, 0, 1, 0, 0, 0, 0,\n",
       "       0, 0, 0, 1, 1, 0, 0, 0, 1, 0, 1, 0, 1, 0, 0, 1, 0, 0, 0, 1, 1, 0,\n",
       "       1, 1, 1, 1, 1, 0, 1, 0, 1, 1, 0, 1, 0, 1, 1, 1, 0, 0, 0, 0, 1, 1,\n",
       "       0, 0, 1, 0, 0, 1, 0, 0, 0, 1, 0, 1, 0, 0, 1, 0, 1, 1, 0, 0, 0, 0,\n",
       "       1, 1, 1, 1, 0, 1, 1, 0, 1, 1, 1, 0, 0, 1, 0, 0, 1, 0, 1, 0, 0, 1,\n",
       "       1, 1, 1, 1, 0, 0, 0, 1, 1, 0, 1, 0, 1, 0, 1, 1, 0, 1, 1, 0, 0, 0,\n",
       "       1, 0, 0, 1, 1, 1, 0, 0, 1, 0, 0, 0, 1, 1, 0, 1, 0, 0, 0, 0, 0, 0,\n",
       "       0, 0, 0, 0, 1, 1, 1, 0, 1, 0, 1, 0, 0, 0, 1, 1, 0, 1, 0, 1, 1, 0,\n",
       "       1, 0, 0, 1, 1, 1, 1, 1, 1, 1, 1, 0, 0, 0, 0, 1, 0, 0, 1, 0, 1, 1,\n",
       "       1, 0, 0, 1, 0, 0, 1, 1, 0, 0])"
      ]
     },
     "execution_count": 16,
     "metadata": {},
     "output_type": "execute_result"
    }
   ],
   "source": [
    "y_encoded = []\n",
    "for value in y:\n",
    "    if value=='R':\n",
    "        y_encoded.append(1)\n",
    "    else:\n",
    "        y_encoded.append(0)\n",
    "        \n",
    "y_encoded = np.asarray(y_encoded)\n",
    "y_encoded"
   ]
  },
  {
   "cell_type": "code",
   "execution_count": 27,
   "metadata": {
    "colab": {
     "base_uri": "https://localhost:8080/",
     "height": 204
    },
    "colab_type": "code",
    "id": "InAvFlykQp2f",
    "outputId": "00d84263-877b-4159-a8d1-7e84e536d6bf"
   },
   "outputs": [
    {
     "name": "stdout",
     "output_type": "stream",
     "text": [
      "20\n",
      "Processing field # 0\n",
      "20/20 [==============================] - 1s 71ms/step\n",
      "Processing field # 1\n",
      "20/20 [==============================] - 1s 70ms/step\n",
      "Processing field # 2\n",
      "20/20 [==============================] - 2s 78ms/step\n",
      "Processing field # 3\n",
      "20/20 [==============================] - 1s 74ms/step\n",
      "Processing field # 4\n",
      "20/20 [==============================] - 1s 74ms/step\n",
      "Processing field # 5\n",
      "20/20 [==============================] - 2s 76ms/step\n",
      "Processing field # 6\n",
      "20/20 [==============================] - 2s 83ms/step\n",
      "Processing field # 7\n",
      "20/20 [==============================] - 2s 82ms/step\n",
      "Processing field # 8\n",
      "20/20 [==============================] - 2s 86ms/step\n",
      "Processing field # 9\n",
      "20/20 [==============================] - 2s 121ms/step\n"
     ]
    }
   ],
   "source": [
    "np.random.seed(seed)\n",
    "def create_model():\n",
    "  model = models.Sequential()\n",
    "  model.add(layers.Dense(100,activation = 'relu',input_shape =(x[1].shape)))\n",
    "  model.add(layers.Dense(50,activation = 'relu'))\n",
    "  model.add(layers.Dense(25,activation = 'relu'))\n",
    "  model.add(layers.Dense(6, activation = 'relu',))\n",
    "  model.add(layers.Dense(1, activation = 'sigmoid'))\n",
    "  model.compile(optimizer = 'adam',loss = 'binary_crossentropy',metrics=['accuracy'] )\n",
    "  return model\n",
    "\n",
    "k = 10\n",
    "num_val_samples = len(x) // k #integer division\n",
    "print(num_val_samples)\n",
    "num_epochs = 10\n",
    "results = []\n",
    "for i in range(k):\n",
    "    print(\"Processing field #\", i)\n",
    "    #prepairing the validation data:data from partition K\n",
    "    val_data = x[i*num_val_samples:(i+1)*num_val_samples]      \n",
    "    val_targets = y_encoded[i*num_val_samples:(i+1)*num_val_samples]\n",
    "    #prepairing training data from all other partitions\n",
    "    partial_train_data = np.concatenate([\n",
    "        x[:i*num_val_samples],\n",
    "        x[(i+1)*num_val_samples:]\n",
    "    ], axis = 0)\n",
    "    partial_train_target = np.concatenate([\n",
    "        y_encoded[:i*num_val_samples],\n",
    "        y_encoded[(i+1)*num_val_samples:]\n",
    "    ],axis = 0)\n",
    "    partial_train_data_mean = partial_train_data.mean(axis = 0)\n",
    "    partial_train_data_std = partial_train_data.std(axis = 0)\n",
    "    partial_train_data = (partial_train_data - partial_train_data_mean)/partial_train_data_std\n",
    "    val_data = (val_data - partial_train_data_mean)/partial_train_data_std\n",
    "   \n",
    "    model = create_model()\n",
    "    model.fit(partial_train_data, \n",
    "              partial_train_target,\n",
    "              epochs = num_epochs, \n",
    "              batch_size = 5, verbose = 0)\n",
    "    results.append(model.evaluate(val_data, val_targets))"
   ]
  },
  {
   "cell_type": "code",
   "execution_count": 19,
   "metadata": {
    "colab": {},
    "colab_type": "code",
    "id": "B1iXi1fKQ221"
   },
   "outputs": [
    {
     "data": {
      "text/plain": [
       "['loss', 'acc']"
      ]
     },
     "execution_count": 19,
     "metadata": {},
     "output_type": "execute_result"
    }
   ],
   "source": [
    "model.metrics_names"
   ]
  },
  {
   "cell_type": "code",
   "execution_count": 22,
   "metadata": {
    "colab": {
     "base_uri": "https://localhost:8080/",
     "height": 376
    },
    "colab_type": "code",
    "id": "QPlFI84MQ6uO",
    "outputId": "2cb4e9c2-2f9c-40ac-ab54-af2194ee9d55"
   },
   "outputs": [
    {
     "data": {
      "text/plain": [
       "87.99999952316284"
      ]
     },
     "execution_count": 22,
     "metadata": {},
     "output_type": "execute_result"
    }
   ],
   "source": [
    "acc = []\n",
    "for result in results:\n",
    "    acc.append(result[1])\n",
    "acc = np.asarray(acc)\n",
    "overall_acc = acc.mean()\n",
    "overall_acc*100"
   ]
  },
  {
   "cell_type": "code",
   "execution_count": 55,
   "metadata": {
    "colab": {
     "base_uri": "https://localhost:8080/",
     "height": 34
    },
    "colab_type": "code",
    "id": "Exfp2XSOgv8S",
    "outputId": "b513fdbf-ebc8-4fab-df96-2804b98f4261"
   },
   "outputs": [
    {
     "data": {
      "text/plain": [
       "['loss', 'acc']"
      ]
     },
     "execution_count": 55,
     "metadata": {
      "tags": []
     },
     "output_type": "execute_result"
    }
   ],
   "source": [
    "model.metrics_names"
   ]
  },
  {
   "cell_type": "code",
   "execution_count": null,
   "metadata": {},
   "outputs": [],
   "source": []
  },
  {
   "cell_type": "code",
   "execution_count": 23,
   "metadata": {
    "colab": {
     "base_uri": "https://localhost:8080/",
     "height": 204
    },
    "colab_type": "code",
    "id": "InAvFlykQp2f",
    "outputId": "00d84263-877b-4159-a8d1-7e84e536d6bf"
   },
   "outputs": [
    {
     "name": "stdout",
     "output_type": "stream",
     "text": [
      "20\n",
      "Processing field # 0\n",
      "Processing field # 1\n",
      "Processing field # 2\n",
      "Processing field # 3\n",
      "Processing field # 4\n",
      "Processing field # 5\n",
      "Processing field # 6\n",
      "Processing field # 7\n",
      "Processing field # 8\n",
      "Processing field # 9\n"
     ]
    }
   ],
   "source": [
    "np.random.seed(seed)\n",
    "def create_model():\n",
    "  model = models.Sequential()\n",
    "  model.add(layers.Dense(100,activation = 'relu',input_shape =(x[1].shape)))\n",
    "  model.add(layers.Dense(50,activation = 'relu'))\n",
    "  model.add(layers.Dense(25,activation = 'relu'))\n",
    "  model.add(layers.Dense(6, activation = 'relu',))\n",
    "  model.add(layers.Dense(1, activation = 'sigmoid'))\n",
    "  model.compile(optimizer = 'adam',loss = 'binary_crossentropy',metrics=['accuracy'] )\n",
    "  return model\n",
    "\n",
    "k = 10\n",
    "num_val_samples = len(x) // k #integer division\n",
    "print(num_val_samples)\n",
    "num_epochs = 200\n",
    "results = []\n",
    "loss_values = []\n",
    "val_loss_values = []\n",
    "for i in range(k):\n",
    "    print(\"Processing field #\", i)\n",
    "    #prepairing the validation data:data from partition K\n",
    "    val_data = x[i*num_val_samples:(i+1)*num_val_samples]      \n",
    "    val_targets = y_encoded[i*num_val_samples:(i+1)*num_val_samples]\n",
    "    #prepairing training data from all other partitions\n",
    "    partial_train_data = np.concatenate([\n",
    "        x[:i*num_val_samples],\n",
    "        x[(i+1)*num_val_samples:]\n",
    "    ], axis = 0)\n",
    "    partial_train_target = np.concatenate([\n",
    "        y_encoded[:i*num_val_samples],\n",
    "        y_encoded[(i+1)*num_val_samples:]\n",
    "    ],axis = 0)\n",
    "    partial_train_data_mean = partial_train_data.mean(axis = 0)\n",
    "    partial_train_data_std = partial_train_data.std(axis = 0)\n",
    "    partial_train_data = (partial_train_data - partial_train_data_mean)/partial_train_data_std\n",
    "    val_data = (val_data - partial_train_data_mean)/partial_train_data_std\n",
    "   \n",
    "    model = create_model()\n",
    "    history = model.fit(partial_train_data, \n",
    "              partial_train_target,\n",
    "              epochs = num_epochs, \n",
    "              batch_size = 5, verbose = 0,\n",
    "              validation_data = (val_data, val_targets))\n",
    "    history_dict = history.history\n",
    "    loss_values.append(history_dict['loss'])\n",
    "    val_loss_values.append(history_dict['val_loss'])"
   ]
  },
  {
   "cell_type": "code",
   "execution_count": 24,
   "metadata": {},
   "outputs": [],
   "source": [
    "average_loss_history = [np.mean([x[i] for x in loss_values]) for i in range(num_epochs)]\n",
    "average_val_loss_history = [np.mean([x[i] for x in val_loss_values]) for i in range(num_epochs)]"
   ]
  },
  {
   "cell_type": "code",
   "execution_count": 26,
   "metadata": {},
   "outputs": [
    {
     "data": {
      "image/png": "[encoded data removed]",
      "text/plain": [
       "<Figure size 432x288 with 1 Axes>"
      ]
     },
     "metadata": {
      "needs_background": "light"
     },
     "output_type": "display_data"
    }
   ],
   "source": [
    "import matplotlib.pyplot as plt\n",
    "epochs = range(1, len(average_loss_history)+1)\n",
    "plt.plot(epochs, average_loss_history, 'bo', label = 'Training loss')\n",
    "plt.plot(epochs, average_val_loss_history, 'b', label = 'Validation loss')\n",
    "plt.title(\"Training and Validation loss\")\n",
    "plt.xlabel(\"Epochs\")\n",
    "plt.ylabel(\"Loss\")\n",
    "plt.legend()\n",
    "plt.show()\n"
   ]
  }
 ],
 "metadata": {
  "accelerator": "GPU",
  "colab": {
   "name": "Deep Learning Project 1.ipynb",
   "provenance": [],
   "toc_visible": true,
   "version": "0.3.2"
  },
  "kernelspec": {
   "display_name": "Python 3",
   "language": "python",
   "name": "python3"
  },
  "language_info": {
   "codemirror_mode": {
    "name": "ipython",
    "version": 3
   },
   "file_extension": ".py",
   "mimetype": "text/x-python",
   "name": "python",
   "nbconvert_exporter": "python",
   "pygments_lexer": "ipython3",
   "version": "3.6.8"
  }
 },
 "nbformat": 4,
 "nbformat_minor": 1
}
