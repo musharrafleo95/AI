{
 "cells": [
  {
   "cell_type": "markdown",
   "metadata": {
    "colab_type": "text",
    "id": "BKxEYRMjZaLT"
   },
   "source": [
    "# Step 1. Project Description\n",
    "In this project, we will use the standard machine-learning problem called the iris flowers dataset:\n",
    "\n",
    "http://archive.ics.uci.edu/ml/datasets/Iris \n",
    "\n",
    "This dataset is well studied and is a good problem for practicing on neural networks because all of the 4 input variables are numeric and have the same scale in centimeters. Each instance describes the properties of an observed flower measurements and the output variable is specific iris species.\n",
    "\n",
    "This is a multi-class classification problem, meaning that there are more than two classes to be predicted, in fact there are three flower species. This is an important type of problem on which to practice with neural networks because the three class values require specialized handling.\n",
    "\n",
    "The iris flower dataset is a well-studied problem and as such we can expect to achieve model accuracy in the range of 95% to 97%. This provides a good target to aim for when developing our models in this project.\n",
    "\n",
    "We have download the iris flowers dataset for free and place it in the project directory with the filename “iris.csv“. You can also directly download the dataset:\n",
    "http://archive.ics.uci.edu/ml/machine-learning-databases/iris/iris.data\n"
   ]
  },
  {
   "cell_type": "markdown",
   "metadata": {
    "colab_type": "text",
    "id": "eJm7RqdoZery"
   },
   "source": [
    "# Step 2. Making Preparations\n",
    "We will start off by importing all of the classes and functions we will need. This includes both the functionality we require from Keras, but also data loading from pandas as well as data preparation and model evaluation from scikit-learn:\n",
    "\n"
   ]
  },
  {
   "cell_type": "code",
   "execution_count": 1,
   "metadata": {
    "colab": {},
    "colab_type": "code",
    "id": "HAKucf2qZhja"
   },
   "outputs": [
    {
     "name": "stderr",
     "output_type": "stream",
     "text": [
      "Using TensorFlow backend.\n"
     ]
    }
   ],
   "source": [
    "import numpy as np\n",
    "import pandas as pd\n",
    "from keras import models\n",
    "from keras import layers\n",
    "from keras.wrappers.scikit_learn import KerasClassifier\n",
    "from keras.utils import np_utils\n",
    "from sklearn.model_selection import cross_val_score\n",
    "from sklearn.model_selection import KFold\n",
    "from sklearn.preprocessing import LabelEncoder\n",
    "from sklearn.pipeline import Pipeline\n"
   ]
  },
  {
   "cell_type": "markdown",
   "metadata": {
    "colab_type": "text",
    "id": "JOrqRPiTaFaB"
   },
   "source": [
    "Next, we need to initialize the random number generator to a constant value (7).\n",
    "\n",
    "This is important to ensure that the results we achieve from this model can be achieved again precisely. It ensures that the stochastic process of training a neural network model can be reproduced:\n"
   ]
  },
  {
   "cell_type": "code",
   "execution_count": 2,
   "metadata": {
    "colab": {},
    "colab_type": "code",
    "id": "UKZDFnnFaGJL"
   },
   "outputs": [],
   "source": [
    "# fix random seed for reproducibility\n",
    "seed = 7\n",
    "np.random.seed(seed)\n"
   ]
  },
  {
   "cell_type": "markdown",
   "metadata": {
    "colab_type": "text",
    "id": "ANzwe07FaIoa"
   },
   "source": [
    "The dataset can be loaded directly. Because the output variable contains strings, it is easiest to load the data using pandas. We can then split the attributes (columns) into input variables (x) and output variables (y)."
   ]
  },
  {
   "cell_type": "code",
   "execution_count": 3,
   "metadata": {
    "colab": {},
    "colab_type": "code",
    "id": "qTdHvZPvaN1L"
   },
   "outputs": [
    {
     "data": {
      "text/html": [
       "<div>\n",
       "<style scoped>\n",
       "    .dataframe tbody tr th:only-of-type {\n",
       "        vertical-align: middle;\n",
       "    }\n",
       "\n",
       "    .dataframe tbody tr th {\n",
       "        vertical-align: top;\n",
       "    }\n",
       "\n",
       "    .dataframe thead th {\n",
       "        text-align: right;\n",
       "    }\n",
       "</style>\n",
       "<table border=\"1\" class=\"dataframe\">\n",
       "  <thead>\n",
       "    <tr style=\"text-align: right;\">\n",
       "      <th></th>\n",
       "      <th>0</th>\n",
       "      <th>1</th>\n",
       "      <th>2</th>\n",
       "      <th>3</th>\n",
       "    </tr>\n",
       "  </thead>\n",
       "  <tbody>\n",
       "    <tr>\n",
       "      <th>count</th>\n",
       "      <td>150.000000</td>\n",
       "      <td>150.000000</td>\n",
       "      <td>150.000000</td>\n",
       "      <td>150.000000</td>\n",
       "    </tr>\n",
       "    <tr>\n",
       "      <th>mean</th>\n",
       "      <td>5.843333</td>\n",
       "      <td>3.054000</td>\n",
       "      <td>3.758667</td>\n",
       "      <td>1.198667</td>\n",
       "    </tr>\n",
       "    <tr>\n",
       "      <th>std</th>\n",
       "      <td>0.828066</td>\n",
       "      <td>0.433594</td>\n",
       "      <td>1.764420</td>\n",
       "      <td>0.763161</td>\n",
       "    </tr>\n",
       "    <tr>\n",
       "      <th>min</th>\n",
       "      <td>4.300000</td>\n",
       "      <td>2.000000</td>\n",
       "      <td>1.000000</td>\n",
       "      <td>0.100000</td>\n",
       "    </tr>\n",
       "    <tr>\n",
       "      <th>25%</th>\n",
       "      <td>5.100000</td>\n",
       "      <td>2.800000</td>\n",
       "      <td>1.600000</td>\n",
       "      <td>0.300000</td>\n",
       "    </tr>\n",
       "    <tr>\n",
       "      <th>50%</th>\n",
       "      <td>5.800000</td>\n",
       "      <td>3.000000</td>\n",
       "      <td>4.350000</td>\n",
       "      <td>1.300000</td>\n",
       "    </tr>\n",
       "    <tr>\n",
       "      <th>75%</th>\n",
       "      <td>6.400000</td>\n",
       "      <td>3.300000</td>\n",
       "      <td>5.100000</td>\n",
       "      <td>1.800000</td>\n",
       "    </tr>\n",
       "    <tr>\n",
       "      <th>max</th>\n",
       "      <td>7.900000</td>\n",
       "      <td>4.400000</td>\n",
       "      <td>6.900000</td>\n",
       "      <td>2.500000</td>\n",
       "    </tr>\n",
       "  </tbody>\n",
       "</table>\n",
       "</div>"
      ],
      "text/plain": [
       "                0           1           2           3\n",
       "count  150.000000  150.000000  150.000000  150.000000\n",
       "mean     5.843333    3.054000    3.758667    1.198667\n",
       "std      0.828066    0.433594    1.764420    0.763161\n",
       "min      4.300000    2.000000    1.000000    0.100000\n",
       "25%      5.100000    2.800000    1.600000    0.300000\n",
       "50%      5.800000    3.000000    4.350000    1.300000\n",
       "75%      6.400000    3.300000    5.100000    1.800000\n",
       "max      7.900000    4.400000    6.900000    2.500000"
      ]
     },
     "execution_count": 3,
     "metadata": {},
     "output_type": "execute_result"
    }
   ],
   "source": [
    "# load dataset\n",
    "dataframe = pd.read_csv(\"iris.csv\", header=None)\n",
    "dataframe.describe()\n"
   ]
  },
  {
   "cell_type": "code",
   "execution_count": 53,
   "metadata": {
    "scrolled": true
   },
   "outputs": [],
   "source": [
    "# normalized  = dataframe.copy()\n",
    "# normalized_data = normalized.iloc[:,0:4]\n",
    "# normalized_target = normalized.iloc[:,4:]\n",
    "# normalized_data = normalized_data/normalized_data.max(axis=0)\n",
    "# normalized = pd.concat([normalized_data, normalized_target], axis = 1)\n",
    "# dataset = normalized.values\n"
   ]
  },
  {
   "cell_type": "code",
   "execution_count": 50,
   "metadata": {},
   "outputs": [],
   "source": [
    "dataset = dataframe.values\n",
    "x = dataset[:,0:4].astype(float)\n",
    "y = dataset[:,4]"
   ]
  },
  {
   "cell_type": "markdown",
   "metadata": {
    "colab_type": "text",
    "id": "IUXntBY3ad7K"
   },
   "source": [
    "The output variable contains three different string values.\n",
    "<p>\n",
    "When modeling multi-class classification problems using neural networks, it is good practice to reshape the output attribute from a vector that contains values for each class value to be a matrix with a boolean for each class value and whether or not a given instance has that class value or not.\n",
    "<p/>\n",
    "<p>\n",
    "This is called one hot encoding or creating dummy variables from a categorical variable:\n",
    "https://en.wikipedia.org/wiki/One-hot\n",
    "<p/>\n",
    "<p>\n",
    "For example, in this problem three class values are Iris-setosa, Iris-versicolor and Iris-virginica. If we had the observations:\n",
    "<p/>\n",
    "<p>\n",
    "Iris-setosa\n",
    "</p>\n",
    "Iris-versicolor\n",
    "\n",
    "Iris-virginica\n",
    "\n",
    "We can turn this into a one-hot encoded binary matrix for each data instance that would look as follows:\n",
    "\n",
    "Iris-setosa,\tIris-versicolor,\t              Iris-virginica\n",
    "1,\t\t0,\t\t\t0\n",
    "0,\t\t1, \t\t\t0\n",
    "0, \t\t0, \t\t\t1\n",
    "\n",
    "\n",
    "We can do this by first encoding the strings consistently to integers using the scikit-learn class LabelEncoder. Then convert the vector of integers to a one hot encoding using the Keras function to_categorical().\n"
   ]
  },
  {
   "cell_type": "code",
   "execution_count": 51,
   "metadata": {
    "colab": {},
    "colab_type": "code",
    "id": "YAZjsxedbCny"
   },
   "outputs": [],
   "source": [
    "# encode class values as integers\n",
    "encoder = LabelEncoder()\n",
    "encoder.fit(y)\n",
    "y_encoded = encoder.transform(y)\n",
    "# convert integers to dummy variables (i.e. one hot encoded)\n",
    "dummy_y = np_utils.to_categorical(y_encoded)\n"
   ]
  },
  {
   "cell_type": "markdown",
   "metadata": {
    "colab_type": "text",
    "id": "YqYiyMr9bJwy"
   },
   "source": [
    "Step 3: Define the Neural Network Baseline Model\n",
    "The Keras library provides wrapper classes to allow you to use neural network models developed with Keras in scikit-learn.\n",
    "\n",
    "There is a KerasClassifier class in Keras that can be used as an Estimator in scikit-learn, the base type of model in the library. The KerasClassifier takes the name of a function as an argument. This function must return the constructed neural network model, ready for training.\n",
    "\n",
    "Below is a function that will create a baseline neural network for the iris classification problem. It creates a simple fully connected network with one hidden layer that contains 8 neurons.\n",
    "\n",
    "The hidden layer uses a rectifier activation function, which is a good practice. Because we used a one-hot encoding for our iris dataset, the output layer must create 3 output values, one for each class. The output value with the largest value will be taken as the class predicted by the model.\n",
    "\n",
    "The network topology of this simple one-layer neural network can be summarized as:\n",
    "\n",
    "\n",
    "4 inputs -> [8 hidden nodes] -> 3 outputs\n",
    "\n",
    "Note that we use a “softmax” activation function in the output layer. This is to ensure the output values are in the range of 0 and 1 and may be used as predicted probabilities.\n",
    "\n",
    "Finally, the network uses the efficient Adam gradient descent optimization algorithm with a logarithmic loss function, which is called “categorical_crossentropy” in Keras.\n"
   ]
  },
  {
   "cell_type": "code",
   "execution_count": 6,
   "metadata": {
    "colab": {},
    "colab_type": "code",
    "id": "qzIZOpB2bEfy"
   },
   "outputs": [],
   "source": [
    "# define baseline model\n",
    "def baseline_model():\n",
    "  model = models.Sequential()\n",
    "  model.add(layers.Dense(8, activation = 'relu', input_shape = x[1].shape))\n",
    "  model.add(layers.Dense(3, activation = 'softmax'))\n",
    "  model.compile(optimizer = 'adam', loss = 'categorical_crossentropy', metrics = ['acc'])\n",
    "  return model"
   ]
  },
  {
   "cell_type": "markdown",
   "metadata": {
    "colab_type": "text",
    "id": "ebs9XYeKbMhS"
   },
   "source": [
    "We can now create our KerasClassifier for use in scikit-learn.\n",
    "\n",
    "We can also pass arguments in the construction of the KerasClassifier class that will be passed on to the fit() function internally used to train the neural network. Here, we pass the number of epochs as 200 and batch size as 5 to use when training the model. Debugging is also turned off when training by setting verbose to 0.\n"
   ]
  },
  {
   "cell_type": "code",
   "execution_count": 7,
   "metadata": {
    "colab": {},
    "colab_type": "code",
    "id": "Hxo-mlZubTNi"
   },
   "outputs": [],
   "source": [
    "estimator = KerasClassifier(build_fn=baseline_model, epochs=200, batch_size=5, verbose=0)"
   ]
  },
  {
   "cell_type": "markdown",
   "metadata": {
    "colab_type": "text",
    "id": "S-QFkMMFbVDZ"
   },
   "source": [
    "# Step 4. Evaluate The Model with k-Fold Cross Validation\n",
    "We can now evaluate the neural network model on our training data.\n",
    "\n",
    "The scikit-learn has excellent capability to evaluate models using a suite of techniques. The gold standard for evaluating machine learning models is k-fold cross validation.\n",
    "\n",
    "First we can define the model evaluation procedure. Here, we set the number of folds to be 10 (an excellent default) and to shuffle the data before partitioning it.\n"
   ]
  },
  {
   "cell_type": "code",
   "execution_count": 8,
   "metadata": {
    "colab": {},
    "colab_type": "code",
    "id": "zFnlpIODbaaz"
   },
   "outputs": [],
   "source": [
    "kfold = KFold(n_splits=10, shuffle=True, random_state=seed)"
   ]
  },
  {
   "cell_type": "markdown",
   "metadata": {
    "colab_type": "text",
    "id": "y1BCIqSbbf06"
   },
   "source": [
    "Now we can evaluate our model (estimator) on our dataset (X and dummy_y) using a 10-fold cross-validation procedure (kfold).\n",
    "\n",
    "Evaluating the model only takes approximately 10 seconds and returns an object that describes the evaluation of the 10 constructed models for each of the splits of the dataset.\n"
   ]
  },
  {
   "cell_type": "code",
   "execution_count": 9,
   "metadata": {
    "colab": {
     "base_uri": "https://localhost:8080/",
     "height": 34
    },
    "colab_type": "code",
    "id": "QIDlkG4xbcJL",
    "outputId": "5614ec91-4b84-4cd2-943e-da4def6a4828"
   },
   "outputs": [
    {
     "name": "stdout",
     "output_type": "stream",
     "text": [
      "Baseline: 97.33% (4.42%)\n"
     ]
    }
   ],
   "source": [
    "results = cross_val_score(estimator, x, dummy_y, cv=kfold)\n",
    "print(\"Baseline: %.2f%% (%.2f%%)\" % (results.mean()*100, results.std()*100))\n"
   ]
  },
  {
   "cell_type": "markdown",
   "metadata": {
    "colab_type": "text",
    "id": "bPvdulE3bjKi"
   },
   "source": [
    "The results are summarized as both the mean and standard deviation of the model accuracy on the dataset. This is a reasonable estimation of the performance of the model on unseen data. It is also within the realm of known top results for this problem."
   ]
  },
  {
   "cell_type": "markdown",
   "metadata": {
    "colab_type": "text",
    "id": "_SqtJ8qpbuHZ"
   },
   "source": [
    "# Step 5. Tuning Layers and Number of Neurons in The Model\n",
    "There are many things to tune on a neural network, such as the weight initialization, activation functions, optimization procedure and so on.\n",
    "\n",
    "One aspect that may have an outsized effect is the structure of the network itself called the network topology. In this section, we take a look at two experiments on the structure of the network: making it smaller and making it larger.\n",
    "\n",
    "These are good experiments to perform when tuning a neural network on your problem.\n",
    "\n",
    "\n",
    "## Step 5.1. Evaluate a Smaller Network\n"
   ]
  },
  {
   "cell_type": "code",
   "execution_count": 56,
   "metadata": {
    "colab": {
     "base_uri": "https://localhost:8080/",
     "height": 34
    },
    "colab_type": "code",
    "id": "Rkbr6DM8lIYZ",
    "outputId": "e2219f9b-307e-4cf9-a505-864b291fd401"
   },
   "outputs": [
    {
     "name": "stdout",
     "output_type": "stream",
     "text": [
      "Baseline: 82.67% (24.07%)\n"
     ]
    }
   ],
   "source": [
    "# fix random seed for reproducibility\n",
    "seed = 7\n",
    "np.random.seed(seed)\n",
    "# define small model\n",
    "def small_model():\n",
    "  model = models.Sequential()\n",
    "  model.add(layers.Dense(4, activation = 'relu', input_shape = x[1].shape))\n",
    "  model.add(layers.Dense(3, activation = 'softmax'))\n",
    "  model.compile(optimizer = 'adam', loss = 'categorical_crossentropy', metrics = ['acc'])\n",
    "  return model\n",
    "\n",
    "estimator = KerasClassifier(build_fn=small_model, epochs=200, batch_size=5, verbose=0)\n",
    "kfold = KFold(n_splits=10, shuffle=True, random_state=seed)\n",
    "results = cross_val_score(estimator, x, dummy_y, cv=kfold)\n",
    "print(\"Baseline: %.2f%% (%.2f%%)\" % (results.mean()*100, results.std()*100))"
   ]
  },
  {
   "cell_type": "markdown",
   "metadata": {
    "colab_type": "text",
    "id": "kmLqn6uUbwry"
   },
   "source": [
    "## Step 5.2. Evaluate a Larger Network\n",
    "A neural network topology with more layers offers more opportunity for the network to extract key features and recombine them in useful nonlinear ways.\n",
    "\n",
    "We can evaluate whether adding more layers to the network improves the performance easily by making another small tweak to the function used to create our model. \n",
    "\n",
    "The idea here is that the network is given the opportunity to model all input variables before being bottlenecked and forced to halve the representational capacity, much like we did in the experiment above with the smaller network.\n",
    "\n",
    "Instead of squeezing the representation of the inputs themselves, we add hidden layers to aid in the process.\n"
   ]
  },
  {
   "cell_type": "code",
   "execution_count": 57,
   "metadata": {
    "colab": {
     "base_uri": "https://localhost:8080/",
     "height": 34
    },
    "colab_type": "code",
    "id": "iEq8cEZ5liLX",
    "outputId": "64f04019-d5ca-4965-f24d-e2b44d316889",
    "scrolled": true
   },
   "outputs": [
    {
     "name": "stdout",
     "output_type": "stream",
     "text": [
      "Baseline: 97.33% (4.42%)\n"
     ]
    }
   ],
   "source": [
    "# fix random seed for reproducibility\n",
    "seed = 7\n",
    "np.random.seed(seed)\n",
    "# define large model\n",
    "def large_model():\n",
    "  model = models.Sequential()\n",
    "  model.add(layers.Dense(16, activation = 'relu', input_shape = x[1].shape))\n",
    "  model.add(layers.Dense(6, activation = 'relu'))\n",
    "  model.add(layers.Dense(3, activation = 'softmax'))\n",
    "  model.compile(optimizer = 'adam', loss = 'categorical_crossentropy', metrics = ['acc'])\n",
    "  return model\n",
    "\n",
    "estimator = KerasClassifier(build_fn=large_model, epochs=200, batch_size=5, verbose=0)\n",
    "kfold = KFold(n_splits=10, shuffle=True, random_state=seed)\n",
    "results = cross_val_score(estimator, x, dummy_y, cv=kfold)\n",
    "print(\"Baseline: %.2f%% (%.2f%%)\" % (results.mean()*100, results.std()*100))"
   ]
  },
  {
   "cell_type": "markdown",
   "metadata": {
    "colab_type": "text",
    "id": "upkDUrHLbzyZ"
   },
   "source": [
    "# Step 6. Really Scaling up: developing a model that overfits\n",
    "Once you’ve obtained a model that has statistical power, the question becomes, is your\n",
    "model sufficiently powerful? Does it have enough layers and parameters to properly\n",
    "model the problem at hand? \n",
    "\n",
    "Remember that the universal tension in machine learning is between optimization and generalization; the ideal model is one that stands right at the border between underfitting and overfitting; between undercapacity and overcapacity. To figure out where this border lies, first you must cross it.\n",
    "\n",
    "To figure out how big a model you’ll need, you must develop a model that overfits.\n",
    "This is fairly easy:\n",
    "1.\tAdd layers.\n",
    "2.\tMake the layers bigger.\n",
    "3.\tTrain for more epochs.\n",
    "\n",
    "Always monitor the training loss and validation loss, as well as the training and validation values for any metrics you care about. When you see that the model’s performance on the validation data begins to degrade, you’ve achieved overfitting.\n",
    "\n",
    "The next step is to start regularizing and tuning the model, to get as close as possible to the ideal model that neither underfits nor overfits.\n"
   ]
  },
  {
   "cell_type": "code",
   "execution_count": 58,
   "metadata": {
    "colab": {
     "base_uri": "https://localhost:8080/",
     "height": 34
    },
    "colab_type": "code",
    "id": "_Fu9oQhcmq_-",
    "outputId": "86d8acf8-ff7b-4b65-e79b-a1797eb9238f"
   },
   "outputs": [
    {
     "name": "stdout",
     "output_type": "stream",
     "text": [
      "Baseline: 96.67% (4.47%)\n"
     ]
    }
   ],
   "source": [
    "# fix random seed for reproducibility\n",
    "seed = 7\n",
    "np.random.seed(seed)\n",
    "# define large model\n",
    "def large_model():\n",
    "  model = models.Sequential()\n",
    "  model.add(layers.Dense(30, activation = 'relu', input_shape = x[1].shape))\n",
    "  model.add(layers.Dense(20, activation = 'relu',))\n",
    "  model.add(layers.Dense(10, activation = 'relu',))\n",
    "  model.add(layers.Dense(3, activation = 'softmax'))\n",
    "  model.compile(optimizer = 'adam', loss = 'categorical_crossentropy', metrics = ['acc'])\n",
    "  return model\n",
    "\n",
    "estimator = KerasClassifier(build_fn=large_model, epochs=250, batch_size=5, verbose=0)\n",
    "kfold = KFold(n_splits=10, shuffle=True, random_state=seed)\n",
    "results = cross_val_score(estimator, x, dummy_y, cv=kfold)\n",
    "print(\"Baseline: %.2f%% (%.2f%%)\" % (results.mean()*100, results.std()*100))"
   ]
  },
  {
   "cell_type": "markdown",
   "metadata": {
    "colab_type": "text",
    "id": "o1bPIKUXcIuy"
   },
   "source": [
    "# Step 7. Tuning the Model\n",
    "With further tuning of aspects like the optimization algorithm etc. and the number of training epochs, it is expected that further improvements are possible. What is the best score that you can achieve on this dataset?\n"
   ]
  },
  {
   "cell_type": "code",
   "execution_count": 59,
   "metadata": {
    "colab": {
     "base_uri": "https://localhost:8080/",
     "height": 88
    },
    "colab_type": "code",
    "id": "IEy4hOOHm5Te",
    "outputId": "7649f6a7-9aa9-48e9-e809-6524e6602447"
   },
   "outputs": [
    {
     "name": "stdout",
     "output_type": "stream",
     "text": [
      "Baseline: 95.33% (5.21%)\n"
     ]
    }
   ],
   "source": [
    "# fix random seed for reproducibility\n",
    "seed = 7\n",
    "np.random.seed(seed)\n",
    "# running the same small model with 100 epocs\n",
    "def model_v1():\n",
    "  model = models.Sequential()\n",
    "  model.add(layers.Dense(8, activation = 'relu', input_shape = x[1].shape))\n",
    "  model.add(layers.Dense(3, activation = 'softmax'))\n",
    "  model.compile(optimizer = 'adam', loss = 'categorical_crossentropy', metrics = ['acc'])\n",
    "  return model\n",
    "\n",
    "estimator = KerasClassifier(build_fn=model_v1, epochs=100, batch_size=5, verbose=0)\n",
    "kfold = KFold(n_splits=10, shuffle=True, random_state=seed)\n",
    "results = cross_val_score(estimator, x, dummy_y, cv=kfold)\n",
    "print(\"Baseline: %.2f%% (%.2f%%)\" % (results.mean()*100, results.std()*100))"
   ]
  },
  {
   "cell_type": "code",
   "execution_count": 60,
   "metadata": {},
   "outputs": [
    {
     "name": "stdout",
     "output_type": "stream",
     "text": [
      "Baseline: 97.33% (4.42%)\n"
     ]
    }
   ],
   "source": [
    "# fix random seed for reproducibility\n",
    "seed = 7\n",
    "np.random.seed(seed)\n",
    "# running the small model with 200 epocs\n",
    "def model_v2():\n",
    "  model = models.Sequential()\n",
    "  model.add(layers.Dense(8, activation = 'relu', input_shape = x[1].shape))\n",
    "  model.add(layers.Dense(3, activation = 'softmax'))\n",
    "  model.compile(optimizer = 'adam', loss = 'categorical_crossentropy', metrics = ['acc'])\n",
    "  return model\n",
    "\n",
    "estimator = KerasClassifier(build_fn=model_v2, epochs=200, batch_size=5, verbose=0)\n",
    "kfold = KFold(n_splits=10, shuffle=True, random_state=seed)\n",
    "results = cross_val_score(estimator, x, dummy_y, cv=kfold)\n",
    "print(\"Baseline: %.2f%% (%.2f%%)\" % (results.mean()*100, results.std()*100))"
   ]
  },
  {
   "cell_type": "code",
   "execution_count": 61,
   "metadata": {},
   "outputs": [
    {
     "name": "stdout",
     "output_type": "stream",
     "text": [
      "Baseline: 96.00% (5.33%)\n"
     ]
    }
   ],
   "source": [
    "# fix random seed for reproducibility\n",
    "seed = 7\n",
    "np.random.seed(seed)\n",
    "# running the small model with rmsprop\n",
    "def model_v3():\n",
    "  model = models.Sequential()\n",
    "  model.add(layers.Dense(8, activation = 'relu', input_shape = x[1].shape))\n",
    "  model.add(layers.Dense(3, activation = 'softmax'))\n",
    "  model.compile(optimizer = 'rmsprop', loss = 'categorical_crossentropy', metrics = ['acc'])\n",
    "  return model\n",
    "\n",
    "estimator = KerasClassifier(build_fn=model_v3, epochs=200, batch_size=5, verbose=0)\n",
    "kfold = KFold(n_splits=10, shuffle=True, random_state=seed)\n",
    "results = cross_val_score(estimator, x, dummy_y, cv=kfold)\n",
    "print(\"Baseline: %.2f%% (%.2f%%)\" % (results.mean()*100, results.std()*100))"
   ]
  },
  {
   "cell_type": "code",
   "execution_count": 62,
   "metadata": {
    "colab": {},
    "colab_type": "code",
    "id": "pPW31eOMFogr"
   },
   "outputs": [
    {
     "name": "stdout",
     "output_type": "stream",
     "text": [
      "Baseline: 93.33% (9.89%)\n"
     ]
    }
   ],
   "source": [
    "# fix random seed for reproducibility\n",
    "seed = 7\n",
    "np.random.seed(seed)\n",
    "# again model with adam but with 6 neurons in hidden layer\n",
    "def model_v4():\n",
    "  model = models.Sequential()\n",
    "  model.add(layers.Dense(6, activation = 'relu', input_shape = x[1].shape))\n",
    "  model.add(layers.Dense(3, activation = 'softmax'))\n",
    "  model.compile(optimizer = 'adam', loss = 'categorical_crossentropy', metrics = ['acc'])\n",
    "  return model\n",
    "\n",
    "estimator = KerasClassifier(build_fn=model_v4, epochs=200, batch_size=5, verbose=0)\n",
    "kfold = KFold(n_splits=10, shuffle=True, random_state=seed)\n",
    "results = cross_val_score(estimator, x, dummy_y, cv=kfold)\n",
    "print(\"Baseline: %.2f%% (%.2f%%)\" % (results.mean()*100, results.std()*100))"
   ]
  },
  {
   "cell_type": "code",
   "execution_count": 63,
   "metadata": {
    "colab": {},
    "colab_type": "code",
    "id": "-NvLxvxsJfth"
   },
   "outputs": [
    {
     "name": "stdout",
     "output_type": "stream",
     "text": [
      "Baseline: 82.67% (24.07%)\n"
     ]
    }
   ],
   "source": [
    "# fix random seed for reproducibility\n",
    "seed = 7\n",
    "np.random.seed(seed)\n",
    "# again model with adam but with 4 neurons in hidden layer\n",
    "def model_v5():\n",
    "  model = models.Sequential()\n",
    "  model.add(layers.Dense(4, activation = 'relu', input_shape = x[1].shape))\n",
    "  model.add(layers.Dense(3, activation = 'softmax'))\n",
    "  model.compile(optimizer = 'adam', loss = 'categorical_crossentropy', metrics = ['acc'])\n",
    "  return model\n",
    "\n",
    "estimator = KerasClassifier(build_fn=model_v5, epochs=200, batch_size=5, verbose=0)\n",
    "kfold = KFold(n_splits=10, shuffle=True, random_state=seed)\n",
    "results = cross_val_score(estimator, x, dummy_y, cv=kfold)\n",
    "print(\"Baseline: %.2f%% (%.2f%%)\" % (results.mean()*100, results.std()*100))"
   ]
  },
  {
   "cell_type": "code",
   "execution_count": 64,
   "metadata": {
    "colab": {},
    "colab_type": "code",
    "id": "w4IwZQVQPWaz"
   },
   "outputs": [
    {
     "name": "stdout",
     "output_type": "stream",
     "text": [
      "Baseline: 91.33% (13.68%)\n"
     ]
    }
   ],
   "source": [
    "# fix random seed for reproducibility\n",
    "seed = 7\n",
    "np.random.seed(seed)\n",
    "# introducing dropout of 20%\n",
    "def model_v6():\n",
    "  model = models.Sequential()\n",
    "  model.add(layers.Dense(4, activation = 'relu', input_shape = x[1].shape))\n",
    "  model.add(layers.Dropout(0.2))\n",
    "  model.add(layers.Dense(3, activation = 'softmax'))\n",
    "  model.compile(optimizer = 'adam', loss = 'categorical_crossentropy', metrics = ['acc'])\n",
    "  return model\n",
    "\n",
    "estimator = KerasClassifier(build_fn=model_v6, epochs=200, batch_size=5, verbose=0)\n",
    "kfold = KFold(n_splits=10, shuffle=True, random_state=seed)\n",
    "results = cross_val_score(estimator, x, dummy_y, cv=kfold)\n",
    "print(\"Baseline: %.2f%% (%.2f%%)\" % (results.mean()*100, results.std()*100))"
   ]
  },
  {
   "cell_type": "code",
   "execution_count": 65,
   "metadata": {
    "colab": {},
    "colab_type": "code",
    "id": "5BHMbYfYQUDR"
   },
   "outputs": [
    {
     "name": "stdout",
     "output_type": "stream",
     "text": [
      "Baseline: 92.67% (10.09%)\n"
     ]
    }
   ],
   "source": [
    "# fix random seed for reproducibility\n",
    "seed = 7\n",
    "np.random.seed(seed)\n",
    "# Using regularizers l1\n",
    "from keras import regularizers\n",
    "\n",
    "def model_v7():\n",
    "  model = models.Sequential()\n",
    "  model.add(layers.Dense(4, activation = 'relu',kernel_regularizer = regularizers.l1(0.001), input_shape = x[1].shape))\n",
    "  model.add(layers.Dense(3, activation = 'softmax'))\n",
    "  model.compile(optimizer = 'adam', loss = 'categorical_crossentropy', metrics = ['acc'])\n",
    "  return model\n",
    "\n",
    "estimator = KerasClassifier(build_fn=model_v7, epochs=200, batch_size=5, verbose=0)\n",
    "kfold = KFold(n_splits=10, shuffle=True, random_state=seed)\n",
    "results = cross_val_score(estimator, x, dummy_y, cv=kfold)\n",
    "print(\"Baseline: %.2f%% (%.2f%%)\" % (results.mean()*100, results.std()*100))"
   ]
  },
  {
   "cell_type": "code",
   "execution_count": 66,
   "metadata": {},
   "outputs": [
    {
     "name": "stdout",
     "output_type": "stream",
     "text": [
      "Baseline: 84.67% (21.51%)\n"
     ]
    }
   ],
   "source": [
    "# fix random seed for reproducibility\n",
    "seed = 7\n",
    "np.random.seed(seed)\n",
    "# Using regularizers l2\n",
    "from keras import regularizers\n",
    "\n",
    "def model_v8():\n",
    "  model = models.Sequential()\n",
    "  model.add(layers.Dense(4, activation = 'relu',kernel_regularizer = regularizers.l2(0.001), input_shape = x[1].shape))\n",
    "  model.add(layers.Dense(3, activation = 'softmax'))\n",
    "  model.compile(optimizer = 'adam', loss = 'categorical_crossentropy', metrics = ['acc'])\n",
    "  return model\n",
    "\n",
    "estimator = KerasClassifier(build_fn=model_v8, epochs=200, batch_size=5, verbose=0)\n",
    "kfold = KFold(n_splits=10, shuffle=True, random_state=seed)\n",
    "results = cross_val_score(estimator, x, dummy_y, cv=kfold)\n",
    "print(\"Baseline: %.2f%% (%.2f%%)\" % (results.mean()*100, results.std()*100))"
   ]
  },
  {
   "cell_type": "code",
   "execution_count": 67,
   "metadata": {},
   "outputs": [
    {
     "name": "stdout",
     "output_type": "stream",
     "text": [
      "Larger: 95.33% (4.27%)\n"
     ]
    }
   ],
   "source": [
    "# fix random seed for reproducibility\n",
    "seed = 7\n",
    "np.random.seed(seed)\n",
    "# Using L1 Regularizer and standarizing the dataset\n",
    "from keras import regularizers\n",
    "from sklearn.preprocessing import StandardScaler\n",
    "from sklearn.pipeline import Pipeline\n",
    "\n",
    "def model_v7():\n",
    "  model = models.Sequential()\n",
    "  model.add(layers.Dense(4, activation = 'relu',kernel_regularizer = regularizers.l1(0.001), input_shape = x[1].shape))\n",
    "  model.add(layers.Dense(3, activation = 'softmax'))\n",
    "  model.compile(optimizer = 'adam', loss = 'categorical_crossentropy', metrics = ['acc'])\n",
    "  return model\n",
    "estimators = []\n",
    "estimators.append(('standardize', StandardScaler()))\n",
    "estimators.append(('mlp', KerasClassifier(build_fn=model_v7, epochs=200, batch_size=5, verbose=0)))\n",
    "pipeline = Pipeline(estimators)\n",
    "kfold = KFold(n_splits=10, shuffle=True, random_state=seed)\n",
    "results = cross_val_score(pipeline, x, y_encoded, cv=kfold)\n",
    "print(\"Larger: %.2f%% (%.2f%%)\" % (results.mean()*100, results.std()*100))"
   ]
  },
  {
   "cell_type": "code",
   "execution_count": 68,
   "metadata": {},
   "outputs": [
    {
     "name": "stdout",
     "output_type": "stream",
     "text": [
      "Larger: 94.00% (5.54%)\n"
     ]
    }
   ],
   "source": [
    "# Using model_v2 again with standarized data set\n",
    "seed = 7\n",
    "np.random.seed(seed)\n",
    "\n",
    "def model_v8():\n",
    "  model = models.Sequential()\n",
    "  model.add(layers.Dense(8, activation = 'relu', input_shape = x[1].shape))\n",
    "  model.add(layers.Dense(3, activation = 'softmax'))\n",
    "  model.compile(optimizer = 'adam', loss = 'categorical_crossentropy', metrics = ['acc'])\n",
    "  return model\n",
    "\n",
    "estimators = []\n",
    "estimators.append(('standardize', StandardScaler()))\n",
    "estimators.append(('mlp', KerasClassifier(build_fn=model_v8, epochs=200, batch_size=5, verbose=0)))\n",
    "pipeline = Pipeline(estimators)\n",
    "kfold = KFold(n_splits=10, shuffle=True, random_state=seed)\n",
    "results = cross_val_score(pipeline, x, y_encoded, cv=kfold)\n",
    "print(\"Larger: %.2f%% (%.2f%%)\" % (results.mean()*100, results.std()*100))"
   ]
  },
  {
   "cell_type": "code",
   "execution_count": 70,
   "metadata": {},
   "outputs": [
    {
     "name": "stdout",
     "output_type": "stream",
     "text": [
      "Larger: 94.00% (5.54%)\n"
     ]
    }
   ],
   "source": [
    "# Using model_v2 again with standarized data set and L1 regularizer\n",
    "seed = 7\n",
    "np.random.seed(seed)\n",
    "\n",
    "def model_v9():\n",
    "  model = models.Sequential()\n",
    "  model.add(layers.Dense(8, activation = 'relu',kernel_regularizer = regularizers.l1(0.001), input_shape = x[1].shape))\n",
    "  model.add(layers.Dense(3, activation = 'softmax'))\n",
    "  model.compile(optimizer = 'adam', loss = 'categorical_crossentropy', metrics = ['acc'])\n",
    "  return model\n",
    "\n",
    "estimators = []\n",
    "estimators.append(('standardize', StandardScaler()))\n",
    "estimators.append(('mlp', KerasClassifier(build_fn=model_v9, epochs=200, batch_size=5, verbose=0)))\n",
    "pipeline = Pipeline(estimators)\n",
    "kfold = KFold(n_splits=10, shuffle=True, random_state=seed)\n",
    "results = cross_val_score(pipeline, x, y_encoded, cv=kfold)\n",
    "print(\"Larger: %.2f%% (%.2f%%)\" % (results.mean()*100, results.std()*100))\n",
    "\n"
   ]
  },
  {
   "cell_type": "code",
   "execution_count": 71,
   "metadata": {},
   "outputs": [
    {
     "name": "stdout",
     "output_type": "stream",
     "text": [
      "Baseline: 96.67% (4.47%)\n"
     ]
    }
   ],
   "source": [
    "# Using model_v2 again with L1 regularizer\n",
    "seed = 7\n",
    "np.random.seed(seed)\n",
    "\n",
    "def model_v10():\n",
    "  model = models.Sequential()\n",
    "  model.add(layers.Dense(8, activation = 'relu',kernel_regularizer = regularizers.l1(0.001), input_shape = x[1].shape))\n",
    "  model.add(layers.Dense(3, activation = 'softmax'))\n",
    "  model.compile(optimizer = 'adam', loss = 'categorical_crossentropy', metrics = ['acc'])\n",
    "  return model\n",
    "\n",
    "\n",
    "estimator = KerasClassifier(build_fn=model_v10, epochs=200, batch_size=5, verbose=0)\n",
    "kfold = KFold(n_splits=10, shuffle=True, random_state=seed)\n",
    "results = cross_val_score(estimator, x, dummy_y, cv=kfold)\n",
    "print(\"Baseline: %.2f%% (%.2f%%)\" % (results.mean()*100, results.std()*100))\n"
   ]
  },
  {
   "cell_type": "code",
   "execution_count": 73,
   "metadata": {},
   "outputs": [
    {
     "name": "stdout",
     "output_type": "stream",
     "text": [
      "Baseline: 97.33% (4.42%)\n"
     ]
    }
   ],
   "source": [
    "# Using model_v2 again with L2 regularizer\n",
    "seed = 7\n",
    "np.random.seed(seed)\n",
    "\n",
    "def model_v11():\n",
    "  model = models.Sequential()\n",
    "  model.add(layers.Dense(8, activation = 'relu',kernel_regularizer = regularizers.l2(0.001), input_shape = x[1].shape))\n",
    "  model.add(layers.Dense(3, activation = 'softmax'))\n",
    "  model.compile(optimizer = 'adam', loss = 'categorical_crossentropy', metrics = ['acc'])\n",
    "  return model\n",
    "\n",
    "\n",
    "estimator = KerasClassifier(build_fn=model_v11, epochs=200, batch_size=5, verbose=0)\n",
    "kfold = KFold(n_splits=10, shuffle=True, random_state=seed)\n",
    "results = cross_val_score(estimator, x, dummy_y, cv=kfold)\n",
    "print(\"Baseline: %.2f%% (%.2f%%)\" % (results.mean()*100, results.std()*100))"
   ]
  },
  {
   "cell_type": "code",
   "execution_count": 74,
   "metadata": {},
   "outputs": [
    {
     "name": "stdout",
     "output_type": "stream",
     "text": [
      "Baseline: 96.00% (5.33%)\n"
     ]
    }
   ],
   "source": [
    "# Using rmsprop optimizer\n",
    "seed = 7\n",
    "np.random.seed(seed)\n",
    "\n",
    "def model_v12():\n",
    "  model = models.Sequential()\n",
    "  model.add(layers.Dense(8, activation = 'relu',kernel_regularizer = regularizers.l2(0.001), input_shape = x[1].shape))\n",
    "  model.add(layers.Dense(3, activation = 'softmax'))\n",
    "  model.compile(optimizer = 'rmsprop', loss = 'categorical_crossentropy', metrics = ['acc'])\n",
    "  return model\n",
    "\n",
    "\n",
    "estimator = KerasClassifier(build_fn=model_v12, epochs=200, batch_size=5, verbose=0)\n",
    "kfold = KFold(n_splits=10, shuffle=True, random_state=seed)\n",
    "results = cross_val_score(estimator, x, dummy_y, cv=kfold)\n",
    "print(\"Baseline: %.2f%% (%.2f%%)\" % (results.mean()*100, results.std()*100))"
   ]
  },
  {
   "cell_type": "code",
   "execution_count": 75,
   "metadata": {},
   "outputs": [
    {
     "name": "stdout",
     "output_type": "stream",
     "text": [
      "Baseline: 98.00% (3.06%)\n"
     ]
    }
   ],
   "source": [
    "# Using adam optimizer and different architecture\n",
    "seed = 7\n",
    "np.random.seed(seed)\n",
    "\n",
    "def model_v13():\n",
    "  model = models.Sequential()\n",
    "  model.add(layers.Dense(10, activation = 'relu',kernel_regularizer = regularizers.l2(0.001), input_shape = x[1].shape))\n",
    "  model.add(layers.Dense(3, activation = 'softmax'))\n",
    "  model.compile(optimizer = 'adam', loss = 'categorical_crossentropy', metrics = ['acc'])\n",
    "  return model\n",
    "\n",
    "\n",
    "estimator = KerasClassifier(build_fn=model_v13, epochs=200, batch_size=5, verbose=0)\n",
    "kfold = KFold(n_splits=10, shuffle=True, random_state=seed)\n",
    "results = cross_val_score(estimator, x, dummy_y, cv=kfold)\n",
    "print(\"Baseline: %.2f%% (%.2f%%)\" % (results.mean()*100, results.std()*100))"
   ]
  },
  {
   "cell_type": "code",
   "execution_count": 11,
   "metadata": {},
   "outputs": [
    {
     "name": "stdout",
     "output_type": "stream",
     "text": [
      "Baseline: 97.33% (4.42%)\n"
     ]
    }
   ],
   "source": [
    "# Using different architecture\n",
    "from keras import regularizers\n",
    "seed = 7\n",
    "np.random.seed(seed)\n",
    "\n",
    "def model_v14():\n",
    "  model = models.Sequential()\n",
    "  model.add(layers.Dense(12, activation = 'relu',kernel_regularizer = regularizers.l2(0.001), input_shape = x[1].shape))\n",
    "  model.add(layers.Dense(3, activation = 'softmax'))\n",
    "  model.compile(optimizer = 'adam', loss = 'categorical_crossentropy', metrics = ['acc'])\n",
    "  return model\n",
    "\n",
    "\n",
    "estimator = KerasClassifier(build_fn=model_v14, epochs=200, batch_size=5, verbose=0)\n",
    "kfold = KFold(n_splits=10, shuffle=True, random_state=seed)\n",
    "results = cross_val_score(estimator, x, dummy_y, cv=kfold)\n",
    "print(\"Baseline: %.2f%% (%.2f%%)\" % (results.mean()*100, results.std()*100))"
   ]
  },
  {
   "cell_type": "code",
   "execution_count": 14,
   "metadata": {},
   "outputs": [
    {
     "name": "stdout",
     "output_type": "stream",
     "text": [
      "Baseline: 96.67% (5.37%)\n"
     ]
    }
   ],
   "source": [
    "#Using model_v13 with dropout\n",
    "seed = 7\n",
    "np.random.seed(seed)\n",
    "\n",
    "def model_v15():\n",
    "  model = models.Sequential()\n",
    "  model.add(layers.Dense(10, activation = 'relu', input_shape = x[1].shape))\n",
    "  model.add(layers.Dropout(0.2))\n",
    "  model.add(layers.Dense(3, activation = 'softmax'))\n",
    "  model.compile(optimizer = 'adam', loss = 'categorical_crossentropy', metrics = ['acc'])\n",
    "  return model\n",
    "\n",
    "\n",
    "estimator = KerasClassifier(build_fn=model_v15, epochs=200, batch_size=5, verbose=0)\n",
    "kfold = KFold(n_splits=10, shuffle=True, random_state=seed)\n",
    "results = cross_val_score(estimator, x, dummy_y, cv=kfold)\n",
    "print(\"Baseline: %.2f%% (%.2f%%)\" % (results.mean()*100, results.std()*100))"
   ]
  },
  {
   "cell_type": "markdown",
   "metadata": {},
   "source": [
    "So model v_13 is the best one we got so far so we will go with that"
   ]
  },
  {
   "cell_type": "markdown",
   "metadata": {
    "colab_type": "text",
    "id": "ac3aj7kycLqb"
   },
   "source": [
    "# Step 8. Rewriting the code using the Keras Functional API\n",
    "Review the April 9, 2018 presentation done by Chollet contained in the project file: \n",
    "\n",
    "Francois_Chollet_March9.pdf\n",
    "\n",
    "Now rewrite the code that you have written so far using the Keras Sequential API in Kearas Functional API.\n"
   ]
  },
  {
   "cell_type": "code",
   "execution_count": 20,
   "metadata": {
    "colab": {},
    "colab_type": "code",
    "id": "P1sHvViVahbD"
   },
   "outputs": [
    {
     "name": "stdout",
     "output_type": "stream",
     "text": [
      "Baseline: 98.00% (3.06%)\n"
     ]
    }
   ],
   "source": [
    "import keras\n",
    "seed = 7\n",
    "np.random.seed(seed)\n",
    "\n",
    "\n",
    "def create_model():\n",
    "  \n",
    "  inputs = keras.Input(shape=x[1].shape)\n",
    "  x_1 = layers.Dense(10,activation = 'relu',kernel_regularizer = regularizers.l2(0.001))(inputs)\n",
    "  outputs = layers.Dense(3, activation = 'softmax')(x_1)\n",
    "  model = keras.Model(inputs, outputs)\n",
    "  model.compile(optimizer = 'adam',loss = 'categorical_crossentropy',metrics=['acc'] )\n",
    "  return model\n",
    "\n",
    "estimator = KerasClassifier(build_fn=create_model, epochs=200, batch_size=5, verbose=0)\n",
    "kfold = KFold(n_splits=10, shuffle=True, random_state=seed)\n",
    "results = cross_val_score(estimator, x, dummy_y, cv=kfold)\n",
    "print(\"Baseline: %.2f%% (%.2f%%)\" % (results.mean()*100, results.std()*100))"
   ]
  },
  {
   "cell_type": "markdown",
   "metadata": {
    "colab_type": "text",
    "id": "gBtUwpRecOVa"
   },
   "source": [
    "# Step 9. Rewriting the code by doing Model Subclassing\n",
    "Now rewrite the code that you have written so far using the Keras Model Subclassing as mentioned in the Chollet April 9, 2018 presentation.\n",
    "\n",
    "Reference:\n",
    "https://www.tensorflow.org/api_docs/python/tf/keras/Model\n",
    "Please note you will have to use TensorFlow 1.7+ with built-in Keras. \n"
   ]
  },
  {
   "cell_type": "code",
   "execution_count": 52,
   "metadata": {},
   "outputs": [
    {
     "name": "stdout",
     "output_type": "stream",
     "text": [
      "Baseline: 98.00% (3.06%)\n"
     ]
    }
   ],
   "source": [
    "import keras\n",
    "seed = 7\n",
    "np.random.seed(seed)\n",
    "\n",
    "class MyModel(keras.Model):\n",
    "  def __init__(self):\n",
    "    super(MyModel, self).__init__()\n",
    "    self.dense1 = layers.Dense(10, activation = 'relu', kernel_regularizer = regularizers.l2(0.001))\n",
    "    self.dense2 = layers.Dense(3, activation = 'softmax')\n",
    "   \n",
    "    \n",
    "  def call(self, inputs):\n",
    "    x_1 = self.dense1(inputs)\n",
    "    return self.dense2(x_1)\n",
    "  \n",
    "def create_model():\n",
    "  model = MyModel()\n",
    "  model.compile(optimizer = 'adam',loss = 'categorical_crossentropy',metrics=['accuracy'] )\n",
    "  return model\n",
    "\n",
    "estimator = KerasClassifier(build_fn=create_model, epochs=200, batch_size=5, verbose=0)\n",
    "kfold = KFold(n_splits=10, shuffle=True, random_state=seed)\n",
    "results = cross_val_score(estimator, x, dummy_y, cv=kfold)\n",
    "print(\"Baseline: %.2f%% (%.2f%%)\" % (results.mean()*100, results.std()*100))"
   ]
  },
  {
   "cell_type": "markdown",
   "metadata": {
    "colab_type": "text",
    "id": "aLjsudTycRI6"
   },
   "source": [
    "# Step 10. Rewriting the code without using scikit-learn\n",
    "Once you have written the model in all three API style you are required to do k-fold cross validation without using scikit-learn library.\n"
   ]
  },
  {
   "cell_type": "code",
   "execution_count": 35,
   "metadata": {},
   "outputs": [],
   "source": [
    "dataset = dataframe.values\n",
    "np.random.shuffle(dataset)\n",
    "x = dataset[:,0:4].astype(float)\n",
    "y = dataset[:,4]\n",
    "\n",
    "# encode class values as integers\n",
    "encoder = LabelEncoder()\n",
    "encoder.fit(y)\n",
    "y_encoded = encoder.transform(y)\n",
    "# convert integers to dummy variables (i.e. one hot encoded)\n",
    "dummy_y = np_utils.to_categorical(y_encoded)\n",
    "\n",
    "x1 = x.copy()\n",
    "y1 = dummy_y.copy()\n",
    "x_test = x1[140:]\n",
    "y_test = y1[140:]\n",
    "x_data = x1[:140]\n",
    "y_data = y1[:140]\n",
    "# x_data = x_data-x_data.mean(axis=0)\n",
    "# x_data = x_data/x_data.std(axis=0)\n",
    "# x_test = x_test-x_data.mean(axis=0)\n",
    "# x_test = x_test/x_data.std(axis=0)"
   ]
  },
  {
   "cell_type": "code",
   "execution_count": 36,
   "metadata": {},
   "outputs": [
    {
     "name": "stdout",
     "output_type": "stream",
     "text": [
      "14\n",
      "Processing field # 0\n",
      "Processing field # 1\n",
      "Processing field # 2\n",
      "Processing field # 3\n",
      "Processing field # 4\n",
      "Processing field # 5\n",
      "Processing field # 6\n",
      "Processing field # 7\n",
      "Processing field # 8\n",
      "Processing field # 9\n"
     ]
    }
   ],
   "source": [
    "seed = 7\n",
    "np.random.seed(seed)\n",
    "\n",
    "def model_v13():\n",
    "  model = models.Sequential()\n",
    "  model.add(layers.Dense(10, activation = 'relu',kernel_regularizer = regularizers.l2(0.001), input_shape = x[1].shape))\n",
    "  model.add(layers.Dense(3, activation = 'softmax'))\n",
    "  model.compile(optimizer = 'adam', loss = 'categorical_crossentropy', metrics = ['acc'])\n",
    "  return model\n",
    "\n",
    "k = 10\n",
    "num_val_samples = len(x_data) // k #integer division\n",
    "print(num_val_samples)\n",
    "num_epochs = 200\n",
    "loss_values = []\n",
    "val_loss_values = []\n",
    "\n",
    "for i in range(k):\n",
    "    print(\"Processing field #\", i)\n",
    "    #prepairing the validation data:data from partition K\n",
    "    val_data = x_data[i*num_val_samples:(i+1)*num_val_samples]      \n",
    "    val_targets = y_data[i*num_val_samples:(i+1)*num_val_samples]\n",
    "    #prepairing training data from all other partitions\n",
    "    partial_train_data = np.concatenate([\n",
    "        x_data[:i*num_val_samples],\n",
    "        x_data[(i+1)*num_val_samples:]\n",
    "    ], axis = 0)\n",
    "    partial_train_target = np.concatenate([\n",
    "        y_data[:i*num_val_samples],\n",
    "        y_data[(i+1)*num_val_samples:]\n",
    "    ],axis = 0)\n",
    "    \n",
    "   \n",
    "    model = model_v13()\n",
    "    history = model.fit(partial_train_data, \n",
    "              partial_train_target,\n",
    "              epochs = num_epochs, \n",
    "              batch_size = 5, verbose = 0,\n",
    "              validation_data = (val_data, val_targets))\n",
    "    history_dict = history.history\n",
    "    loss_values.append(history_dict['loss'])\n",
    "    val_loss_values.append(history_dict['val_loss'])"
   ]
  },
  {
   "cell_type": "code",
   "execution_count": 37,
   "metadata": {},
   "outputs": [],
   "source": [
    "average_loss_history = [np.mean([x[i] for x in loss_values]) for i in range(num_epochs)]\n",
    "average_val_loss_history = [np.mean([x[i] for x in val_loss_values]) for i in range(num_epochs)]"
   ]
  },
  {
   "cell_type": "code",
   "execution_count": 39,
   "metadata": {},
   "outputs": [
    {
     "data": {
      "image/png": "[encoded data removed]",
      "text/plain": [
       "<Figure size 432x288 with 1 Axes>"
      ]
     },
     "metadata": {
      "needs_background": "light"
     },
     "output_type": "display_data"
    }
   ],
   "source": [
    "import matplotlib.pyplot as plt\n",
    "epochs = range(1, len(average_loss_history)+1)\n",
    "plt.plot(epochs, average_loss_history, 'bo', label = 'Training loss')\n",
    "plt.plot(epochs, average_val_loss_history, 'b', label = 'Validation loss')\n",
    "plt.title(\"Training and Validation loss\")\n",
    "plt.xlabel(\"Epochs\")\n",
    "plt.ylabel(\"Loss\")\n",
    "plt.legend()\n",
    "plt.show()"
   ]
  },
  {
   "cell_type": "code",
   "execution_count": 40,
   "metadata": {},
   "outputs": [
    {
     "name": "stdout",
     "output_type": "stream",
     "text": [
      "\r",
      "10/10 [==============================] - 0s 0us/step\n"
     ]
    },
    {
     "data": {
      "text/plain": [
       "[0.12449132651090622, 1.0]"
      ]
     },
     "execution_count": 40,
     "metadata": {},
     "output_type": "execute_result"
    }
   ],
   "source": [
    "model.evaluate(x_test, y_test)"
   ]
  }
 ],
 "metadata": {
  "colab": {
   "name": "Deep Learning Project 2.ipynb",
   "provenance": [],
   "toc_visible": true,
   "version": "0.3.2"
  },
  "kernelspec": {
   "display_name": "Python 3",
   "language": "python",
   "name": "python3"
  },
  "language_info": {
   "codemirror_mode": {
    "name": "ipython",
    "version": 3
   },
   "file_extension": ".py",
   "mimetype": "text/x-python",
   "name": "python",
   "nbconvert_exporter": "python",
   "pygments_lexer": "ipython3",
   "version": "3.6.8"
  }
 },
 "nbformat": 4,
 "nbformat_minor": 1
}
