{
 "cells": [
  {
   "cell_type": "code",
   "execution_count": 1,
   "metadata": {},
   "outputs": [],
   "source": [
    "import numpy as np\n",
    "from scipy import stats"
   ]
  },
  {
   "cell_type": "code",
   "execution_count": 2,
   "metadata": {},
   "outputs": [],
   "source": [
    "from sklearn import datasets\n",
    "iris = datasets.load_iris()"
   ]
  },
  {
   "cell_type": "code",
   "execution_count": 3,
   "metadata": {},
   "outputs": [
    {
     "data": {
      "text/plain": [
       "(array([5.9, 3. , 5.1, 1.8]), 2)"
      ]
     },
     "execution_count": 3,
     "metadata": {},
     "output_type": "execute_result"
    }
   ],
   "source": [
    "iris.data[-1], iris.target[-1]"
   ]
  },
  {
   "cell_type": "code",
   "execution_count": 4,
   "metadata": {},
   "outputs": [],
   "source": [
    "def pairwise_distance(X, Y):\n",
    "    '''calculating distance between two matrices\n",
    "    X is of shape M,D\n",
    "    Y is of shape N,D\n",
    "    where M,N are the number of observation and D are the dimensions or we can say attributes if we are looking interm \n",
    "    of a data frame\n",
    "    '''\n",
    "    M,D = X.shape\n",
    "    N,K = Y.shape\n",
    "    \n",
    "    distance_matrix = np.zeros((M,N))\n",
    "    \n",
    "    #calculating distance between all rows of X and Y\n",
    "    for m in range(M):\n",
    "        for n in range(N):\n",
    "            diff = X[m,:] - Y[n,:]\n",
    "            distance_matrix[m,n] = np.sqrt(diff.T@diff) #calcualting distance for m row of X and n row of Y\n",
    "            \n",
    "    return distance_matrix\n",
    "\n",
    "def KNN(X,y,x,K=3):\n",
    "    '''calculating for a particlar observation\n",
    "    X - training dataset values\n",
    "    y - training dataset labels\n",
    "    x - testing observation of which label need to be found\n",
    "    K - No of neighbours to be used\n",
    "    \n",
    "    returns the predicted value\n",
    "    '''\n",
    "    x = x.reshape(1,-1)\n",
    "    dist = pairwise_distance(X,x) #computing distance between the data and test observation\n",
    "    y_neigh = y[np.argsort(dist, axis = 0)][:K] #getting K labels which have the nearest distance\n",
    "    return stats.mode(y_neigh)[0] # returning that label which have most observation near to test observation"
   ]
  },
  {
   "cell_type": "code",
   "execution_count": 5,
   "metadata": {},
   "outputs": [
    {
     "data": {
      "text/plain": [
       "array([[2]])"
      ]
     },
     "execution_count": 5,
     "metadata": {},
     "output_type": "execute_result"
    }
   ],
   "source": [
    "KNN(iris.data[:-1],iris.target[:-1],iris.data[-1],K = 4)"
   ]
  }
 ],
 "metadata": {
  "kernelspec": {
   "display_name": "Python 3",
   "language": "python",
   "name": "python3"
  },
  "language_info": {
   "codemirror_mode": {
    "name": "ipython",
    "version": 3
   },
   "file_extension": ".py",
   "mimetype": "text/x-python",
   "name": "python",
   "nbconvert_exporter": "python",
   "pygments_lexer": "ipython3",
   "version": "3.6.8"
  }
 },
 "nbformat": 4,
 "nbformat_minor": 2
}
